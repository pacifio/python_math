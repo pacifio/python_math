{
 "cells": [
  {
   "cell_type": "code",
   "execution_count": 4,
   "id": "39cc591a",
   "metadata": {},
   "outputs": [],
   "source": [
    "import numpy as np\n",
    "from IPython.display import display, Math"
   ]
  },
  {
   "cell_type": "code",
   "execution_count": 3,
   "id": "96ab89f6",
   "metadata": {},
   "outputs": [
    {
     "data": {
      "text/plain": [
       "15"
      ]
     },
     "execution_count": 3,
     "metadata": {},
     "output_type": "execute_result"
    }
   ],
   "source": [
    "lst = [1, 3, 4, 1, 6]\n",
    "sum(lst) # Sum of the list\n",
    "np.sum(lst)"
   ]
  },
  {
   "cell_type": "code",
   "execution_count": 5,
   "id": "fc10954a",
   "metadata": {},
   "outputs": [
    {
     "data": {
      "text/plain": [
       "72"
      ]
     },
     "execution_count": 5,
     "metadata": {},
     "output_type": "execute_result"
    }
   ],
   "source": [
    "np.prod(lst) # Product of the list"
   ]
  },
  {
   "cell_type": "code",
   "execution_count": 6,
   "id": "ed4f087d",
   "metadata": {},
   "outputs": [
    {
     "data": {
      "text/plain": [
       "array([ 1,  4,  8,  9, 15], dtype=int32)"
      ]
     },
     "execution_count": 6,
     "metadata": {},
     "output_type": "execute_result"
    }
   ],
   "source": [
    "np.cumsum(lst)"
   ]
  },
  {
   "cell_type": "code",
   "execution_count": 48,
   "id": "6e96e3f2",
   "metadata": {},
   "outputs": [
    {
     "data": {
      "text/plain": [
       "[1, 4, 8, 9, 15]"
      ]
     },
     "metadata": {},
     "output_type": "display_data"
    }
   ],
   "source": [
    "# Cumsum implementation in raw python\n",
    "def cumsum(l:list[int]) -> list[int]:r = [];[r.append(sum(l[:i+1])) for i in range(len(l))];return r;\n",
    "display(cumsum(lst))"
   ]
  },
  {
   "cell_type": "code",
   "execution_count": 35,
   "id": "2dfcf2db",
   "metadata": {},
   "outputs": [
    {
     "name": "stdout",
     "output_type": "stream",
     "text": [
      "0.2727272727272727 0.06666666666666667\n"
     ]
    }
   ],
   "source": [
    "a = np.arange(1, 6)\n",
    "suma = np.sum(a);suma2 = np.sum(a**2)\n",
    "ans1 = suma/suma2\n",
    "ans2 = 1/suma\n",
    "print(ans1, ans2)"
   ]
  },
  {
   "cell_type": "code",
   "execution_count": 38,
   "id": "d663d5dc",
   "metadata": {},
   "outputs": [
    {
     "name": "stdout",
     "output_type": "stream",
     "text": [
      "0.008333333333333333 6.944444444444444e-05\n"
     ]
    }
   ],
   "source": [
    "proda = np.prod(a);proda2 = np.prod(a**2)\n",
    "ans1 = proda/proda2\n",
    "ans2 = 1/proda2\n",
    "print(ans1, ans2)"
   ]
  }
 ],
 "metadata": {
  "kernelspec": {
   "display_name": "Python 3 (ipykernel)",
   "language": "python",
   "name": "python3"
  },
  "language_info": {
   "codemirror_mode": {
    "name": "ipython",
    "version": 3
   },
   "file_extension": ".py",
   "mimetype": "text/x-python",
   "name": "python",
   "nbconvert_exporter": "python",
   "pygments_lexer": "ipython3",
   "version": "3.9.12"
  }
 },
 "nbformat": 4,
 "nbformat_minor": 5
}
