{
 "cells": [
  {
   "cell_type": "code",
   "execution_count": 1,
   "id": "31763832",
   "metadata": {},
   "outputs": [],
   "source": [
    "import sympy as sym\n",
    "from IPython.display import display, Math\n",
    "import numpy as np\n",
    "\n",
    "sym.init_printing()"
   ]
  },
  {
   "cell_type": "code",
   "execution_count": 5,
   "id": "618b7e35",
   "metadata": {},
   "outputs": [
    {
     "data": {
      "image/png": "[encoded data removed]",
      "text/latex": [
       "$\\displaystyle \\left[ \\frac{5}{2}\\right]$"
      ],
      "text/plain": [
       "[5/2]"
      ]
     },
     "execution_count": 5,
     "metadata": {},
     "output_type": "execute_result"
    }
   ],
   "source": [
    "x = sym.symbols('x')\n",
    "expr = 2*x+4-9\n",
    "sym.solve(expr)"
   ]
  },
  {
   "cell_type": "code",
   "execution_count": 12,
   "id": "d8503dc5",
   "metadata": {},
   "outputs": [
    {
     "data": {
      "image/png": "[encoded data removed]",
      "text/latex": [
       "$\\displaystyle \\left[ \\left\\{ x : \\frac{20}{4 y - 1}\\right\\}\\right]$"
      ],
      "text/plain": [
       "⎡⎧      20  ⎫⎤\n",
       "⎢⎨x: ───────⎬⎥\n",
       "⎣⎩   4⋅y - 1⎭⎦"
      ]
     },
     "metadata": {},
     "output_type": "display_data"
    },
    {
     "data": {
      "image/png": "[encoded data removed]",
      "text/latex": [
       "$\\displaystyle \\left[ \\frac{20}{4 y - 1}\\right]$"
      ],
      "text/plain": [
       "⎡   20  ⎤\n",
       "⎢───────⎥\n",
       "⎣4⋅y - 1⎦"
      ]
     },
     "metadata": {},
     "output_type": "display_data"
    },
    {
     "data": {
      "image/png": "[encoded data removed]",
      "text/latex": [
       "$\\displaystyle \\left[ \\frac{x + 20}{4 x}\\right]$"
      ],
      "text/plain": [
       "⎡x + 20⎤\n",
       "⎢──────⎥\n",
       "⎣ 4⋅x  ⎦"
      ]
     },
     "metadata": {},
     "output_type": "display_data"
    }
   ],
   "source": [
    "y = sym.symbols('y')\n",
    "expr2 = x/4-x*y+5\n",
    "display(sym.solve(expr2))\n",
    "display(sym.solve(expr2, x))\n",
    "display(sym.solve(expr2, y))"
   ]
  },
  {
   "cell_type": "code",
   "execution_count": 13,
   "id": "a021c379",
   "metadata": {},
   "outputs": [],
   "source": [
    "q = sym.symbols('q')"
   ]
  },
  {
   "cell_type": "code",
   "execution_count": 17,
   "id": "32f98a29",
   "metadata": {},
   "outputs": [
    {
     "data": {
      "image/png": "[encoded data removed]",
      "text/latex": [
       "$\\displaystyle - 2 q + 2 + \\frac{3}{q}$"
      ],
      "text/plain": [
       "           3\n",
       "-2⋅q + 2 + ─\n",
       "           q"
      ]
     },
     "metadata": {},
     "output_type": "display_data"
    },
    {
     "data": {
      "text/latex": [
       "$\\displaystyle q = \\left[ \\frac{1}{2} - \\frac{\\sqrt{7}}{2}, \\  \\frac{1}{2} + \\frac{\\sqrt{7}}{2}\\right]$"
      ],
      "text/plain": [
       "<IPython.core.display.Math object>"
      ]
     },
     "metadata": {},
     "output_type": "display_data"
    }
   ],
   "source": [
    "# Excercise 1\n",
    "\n",
    "prac_expr1 = 3*q+(4/q)+3-(5*q+(1/q)+1)\n",
    "simplified = sym.simplify(prac_expr1)\n",
    "display(simplified)\n",
    "display(Math(\"q = %s\" % (sym.latex(sym.solve(prac_expr1)))))"
   ]
  },
  {
   "cell_type": "code",
   "execution_count": 21,
   "id": "17bdf31d",
   "metadata": {},
   "outputs": [
    {
     "data": {
      "image/png": "[encoded data removed]",
      "text/latex": [
       "$\\displaystyle 3 q^{2} + 2 q - \\frac{5}{q} - \\frac{4}{q^{3}}$"
      ],
      "text/plain": [
       "   2         5   4 \n",
       "3⋅q  + 2⋅q - ─ - ──\n",
       "             q    3\n",
       "                 q "
      ]
     },
     "metadata": {},
     "output_type": "display_data"
    },
    {
     "data": {
      "image/png": "[encoded data removed]",
      "text/latex": [
       "$\\displaystyle \\frac{3 q^{5} + 2 q^{4} - 5 q^{2} - 4}{q^{3}}$"
      ],
      "text/plain": [
       "   5      4      2    \n",
       "3⋅q  + 2⋅q  - 5⋅q  - 4\n",
       "──────────────────────\n",
       "           3          \n",
       "          q           "
      ]
     },
     "metadata": {},
     "output_type": "display_data"
    }
   ],
   "source": [
    "# Excercise 2\n",
    "\n",
    "prac_expr2 = 2*q+3*(q**2)-(5/q)-(4/(q**3))\n",
    "simplified2 = sym.simplify(prac_expr2)\n",
    "display(simplified2)\n",
    "display(sym.cancel(prac_expr2))"
   ]
  },
  {
   "cell_type": "code",
   "execution_count": 27,
   "id": "89f206ad",
   "metadata": {},
   "outputs": [
    {
     "data": {
      "image/png": "[encoded data removed]",
      "text/latex": [
       "$\\displaystyle \\frac{\\sqrt{15} q + \\sqrt{3}}{\\sqrt{10} q + \\sqrt{2}}$"
      ],
      "text/plain": [
       "√15⋅q + √3\n",
       "──────────\n",
       "√10⋅q + √2"
      ]
     },
     "metadata": {},
     "output_type": "display_data"
    },
    {
     "data": {
      "image/png": "[encoded data removed]",
      "text/latex": [
       "$\\displaystyle \\frac{\\sqrt{6}}{2}$"
      ],
      "text/plain": [
       "√6\n",
       "──\n",
       "2 "
      ]
     },
     "metadata": {},
     "output_type": "display_data"
    },
    {
     "data": {
      "image/png": "[encoded data removed]",
      "text/latex": [
       "$\\displaystyle \\frac{- 5 \\sqrt{15} + \\sqrt{3}}{- 5 \\sqrt{10} + \\sqrt{2}}$"
      ],
      "text/plain": [
       "-5⋅√15 + √3\n",
       "───────────\n",
       "-5⋅√10 + √2"
      ]
     },
     "metadata": {},
     "output_type": "display_data"
    },
    {
     "data": {
      "image/png": "[encoded data removed]",
      "text/latex": [
       "$\\displaystyle \\frac{- 4 \\sqrt{15} + \\sqrt{3}}{- 4 \\sqrt{10} + \\sqrt{2}}$"
      ],
      "text/plain": [
       "-4⋅√15 + √3\n",
       "───────────\n",
       "-4⋅√10 + √2"
      ]
     },
     "metadata": {},
     "output_type": "display_data"
    },
    {
     "data": {
      "image/png": "[encoded data removed]",
      "text/latex": [
       "$\\displaystyle \\frac{- 3 \\sqrt{15} + \\sqrt{3}}{- 3 \\sqrt{10} + \\sqrt{2}}$"
      ],
      "text/plain": [
       "-3⋅√15 + √3\n",
       "───────────\n",
       "-3⋅√10 + √2"
      ]
     },
     "metadata": {},
     "output_type": "display_data"
    },
    {
     "data": {
      "image/png": "[encoded data removed]",
      "text/latex": [
       "$\\displaystyle \\frac{- 2 \\sqrt{15} + \\sqrt{3}}{- 2 \\sqrt{10} + \\sqrt{2}}$"
      ],
      "text/plain": [
       "-2⋅√15 + √3\n",
       "───────────\n",
       "-2⋅√10 + √2"
      ]
     },
     "metadata": {},
     "output_type": "display_data"
    },
    {
     "data": {
      "image/png": "[encoded data removed]",
      "text/latex": [
       "$\\displaystyle \\frac{- \\sqrt{15} + \\sqrt{3}}{- \\sqrt{10} + \\sqrt{2}}$"
      ],
      "text/plain": [
       "-√15 + √3\n",
       "─────────\n",
       "-√10 + √2"
      ]
     },
     "metadata": {},
     "output_type": "display_data"
    },
    {
     "data": {
      "image/png": "[encoded data removed]",
      "text/latex": [
       "$\\displaystyle \\frac{\\sqrt{6}}{2}$"
      ],
      "text/plain": [
       "√6\n",
       "──\n",
       "2 "
      ]
     },
     "metadata": {},
     "output_type": "display_data"
    },
    {
     "data": {
      "image/png": "[encoded data removed]",
      "text/latex": [
       "$\\displaystyle \\frac{\\sqrt{3} + \\sqrt{15}}{\\sqrt{2} + \\sqrt{10}}$"
      ],
      "text/plain": [
       "√3 + √15\n",
       "────────\n",
       "√2 + √10"
      ]
     },
     "metadata": {},
     "output_type": "display_data"
    },
    {
     "data": {
      "image/png": "[encoded data removed]",
      "text/latex": [
       "$\\displaystyle \\frac{\\sqrt{3} + 2 \\sqrt{15}}{\\sqrt{2} + 2 \\sqrt{10}}$"
      ],
      "text/plain": [
       "√3 + 2⋅√15\n",
       "──────────\n",
       "√2 + 2⋅√10"
      ]
     },
     "metadata": {},
     "output_type": "display_data"
    },
    {
     "data": {
      "image/png": "[encoded data removed]",
      "text/latex": [
       "$\\displaystyle \\frac{\\sqrt{3} + 3 \\sqrt{15}}{\\sqrt{2} + 3 \\sqrt{10}}$"
      ],
      "text/plain": [
       "√3 + 3⋅√15\n",
       "──────────\n",
       "√2 + 3⋅√10"
      ]
     },
     "metadata": {},
     "output_type": "display_data"
    },
    {
     "data": {
      "image/png": "[encoded data removed]",
      "text/latex": [
       "$\\displaystyle \\frac{\\sqrt{3} + 4 \\sqrt{15}}{\\sqrt{2} + 4 \\sqrt{10}}$"
      ],
      "text/plain": [
       "√3 + 4⋅√15\n",
       "──────────\n",
       "√2 + 4⋅√10"
      ]
     },
     "metadata": {},
     "output_type": "display_data"
    },
    {
     "data": {
      "image/png": "[encoded data removed]",
      "text/latex": [
       "$\\displaystyle \\frac{\\sqrt{3} + 5 \\sqrt{15}}{\\sqrt{2} + 5 \\sqrt{10}}$"
      ],
      "text/plain": [
       "√3 + 5⋅√15\n",
       "──────────\n",
       "√2 + 5⋅√10"
      ]
     },
     "metadata": {},
     "output_type": "display_data"
    }
   ],
   "source": [
    "# Excercise 3\n",
    "\n",
    "prac_expr3 = (sym.sqrt(3) + sym.sqrt(15) * q) / (sym.sqrt(2) + sym.sqrt(10) * q)\n",
    "display(prac_expr3)\n",
    "display(sym.simplify(prac_expr3))\n",
    "\n",
    "for i in range(-5, 6):\n",
    "    display(prac_expr3.subs(q, i))"
   ]
  },
  {
   "cell_type": "code",
   "execution_count": 32,
   "id": "831fc222",
   "metadata": {},
   "outputs": [
    {
     "data": {
      "image/png": "[encoded data removed]",
      "text/latex": [
       "$\\displaystyle x \\left(4 x + 5\\right)$"
      ],
      "text/plain": [
       "x⋅(4⋅x + 5)"
      ]
     },
     "metadata": {},
     "output_type": "display_data"
    },
    {
     "data": {
      "image/png": "[encoded data removed]",
      "text/latex": [
       "$\\displaystyle 4 x^{2} + 5 x$"
      ],
      "text/plain": [
       "   2      \n",
       "4⋅x  + 5⋅x"
      ]
     },
     "metadata": {},
     "output_type": "display_data"
    },
    {
     "data": {
      "image/png": "[encoded data removed]",
      "text/latex": [
       "$\\displaystyle \\left[ - \\frac{5}{4}, \\  0\\right]$"
      ],
      "text/plain": [
       "[-5/4, 0]"
      ]
     },
     "metadata": {},
     "output_type": "display_data"
    }
   ],
   "source": [
    "term1 = (4*x+5)\n",
    "term2 = x\n",
    "display(term1 * term2)\n",
    "display(sym.expand(term1 * term2)) \n",
    "display(sym.solve(sym.expand(term1*term2)))"
   ]
  },
  {
   "cell_type": "code",
   "execution_count": 33,
   "id": "420cf3a5",
   "metadata": {},
   "outputs": [
    {
     "name": "stdout",
     "output_type": "stream",
     "text": [
      "Variable      Type        Data/Info\n",
      "-----------------------------------\n",
      "Math          type        <class 'IPython.core.display.Math'>\n",
      "display       function    <function display at 0x000002BEC52F3430>\n",
      "expr          Add         2*x - 5\n",
      "expr2         Add         -x*y + x/4 + 5\n",
      "i             int         5\n",
      "np            module      <module 'numpy' from 'C:\\<...>ges\\\\numpy\\\\__init__.py'>\n",
      "prac_expr1    Add         -2*q + 2 + 3/q\n",
      "prac_expr2    Add         3*q**2 + 2*q - 5/q - 4/q**3\n",
      "prac_expr3    Mul         (sqrt(15)*q + sqrt(3))/(sqrt(10)*q + sqrt(2))\n",
      "q             Symbol      q\n",
      "simplified    Add         -2*q + 2 + 3/q\n",
      "simplified2   Add         3*q**2 + 2*q - 5/q - 4/q**3\n",
      "sym           module      <module 'sympy' from 'C:\\<...>ges\\\\sympy\\\\__init__.py'>\n",
      "term1         Add         4*x + 5\n",
      "term2         Symbol      x\n",
      "x             Symbol      x\n",
      "y             Symbol      y\n"
     ]
    }
   ],
   "source": [
    "%whos"
   ]
  },
  {
   "cell_type": "code",
   "execution_count": 41,
   "id": "bbb38f52",
   "metadata": {},
   "outputs": [
    {
     "data": {
      "text/latex": [
       "$\\displaystyle \\text{When }x=0 \\text{ and }y=0, f(x,y)=8$"
      ],
      "text/plain": [
       "<IPython.core.display.Math object>"
      ]
     },
     "metadata": {},
     "output_type": "display_data"
    },
    {
     "data": {
      "text/latex": [
       "$\\displaystyle \\text{When }x=0 \\text{ and }y=1, f(x,y)=4$"
      ],
      "text/plain": [
       "<IPython.core.display.Math object>"
      ]
     },
     "metadata": {},
     "output_type": "display_data"
    },
    {
     "data": {
      "text/latex": [
       "$\\displaystyle \\text{When }x=0 \\text{ and }y=2, f(x,y)=0$"
      ],
      "text/plain": [
       "<IPython.core.display.Math object>"
      ]
     },
     "metadata": {},
     "output_type": "display_data"
    },
    {
     "data": {
      "text/latex": [
       "$\\displaystyle \\text{When }x=1 \\text{ and }y=0, f(x,y)=10$"
      ],
      "text/plain": [
       "<IPython.core.display.Math object>"
      ]
     },
     "metadata": {},
     "output_type": "display_data"
    },
    {
     "data": {
      "text/latex": [
       "$\\displaystyle \\text{When }x=1 \\text{ and }y=1, f(x,y)=5$"
      ],
      "text/plain": [
       "<IPython.core.display.Math object>"
      ]
     },
     "metadata": {},
     "output_type": "display_data"
    },
    {
     "data": {
      "text/latex": [
       "$\\displaystyle \\text{When }x=1 \\text{ and }y=2, f(x,y)=0$"
      ],
      "text/plain": [
       "<IPython.core.display.Math object>"
      ]
     },
     "metadata": {},
     "output_type": "display_data"
    },
    {
     "data": {
      "text/latex": [
       "$\\displaystyle \\text{When }x=2 \\text{ and }y=0, f(x,y)=12$"
      ],
      "text/plain": [
       "<IPython.core.display.Math object>"
      ]
     },
     "metadata": {},
     "output_type": "display_data"
    },
    {
     "data": {
      "text/latex": [
       "$\\displaystyle \\text{When }x=2 \\text{ and }y=1, f(x,y)=6$"
      ],
      "text/plain": [
       "<IPython.core.display.Math object>"
      ]
     },
     "metadata": {},
     "output_type": "display_data"
    },
    {
     "data": {
      "text/latex": [
       "$\\displaystyle \\text{When }x=2 \\text{ and }y=2, f(x,y)=0$"
      ],
      "text/plain": [
       "<IPython.core.display.Math object>"
      ]
     },
     "metadata": {},
     "output_type": "display_data"
    }
   ],
   "source": [
    "# Expanding terms ecercises\n",
    "\n",
    "def solve_1(x_v, y_v):\n",
    "    expr = (4+x)*(2-y)\n",
    "    display(Math(\"\\\\text{When }x=%g \\\\text{ and }y=%g, f(x,y)=%s\" % (x_v, y_v, sym.latex(expr.subs({x:x_v,y:y_v})))))\n",
    "    \n",
    "for i in range(0, 3):\n",
    "    for j in range(0, 3):\n",
    "        solve_1(i, j)"
   ]
  },
  {
   "cell_type": "code",
   "execution_count": 47,
   "id": "e559eb70",
   "metadata": {},
   "outputs": [
    {
     "data": {
      "text/latex": [
       "$\\displaystyle \\left[\\begin{matrix}1 & 2\\\\3 & 4\\end{matrix}\\right]$"
      ],
      "text/plain": [
       "⎡1  2⎤\n",
       "⎢    ⎥\n",
       "⎣3  4⎦"
      ]
     },
     "metadata": {},
     "output_type": "display_data"
    },
    {
     "data": {
      "text/plain": [
       "array([[0., 0., 0., 0., 0., 0.],\n",
       "       [0., 0., 0., 0., 0., 0.],\n",
       "       [0., 0., 0., 0., 0., 0.],\n",
       "       [0., 0., 0., 0., 0., 0.]])"
      ]
     },
     "metadata": {},
     "output_type": "display_data"
    }
   ],
   "source": [
    "# Matrices\n",
    "\n",
    "A = [\n",
    "    [1,2],\n",
    "    [3,4]\n",
    "]\n",
    "\n",
    "A = np.array(A)\n",
    "display(sym.simplify(A))\n",
    "\n",
    "mat = np.zeros([4, 6])\n",
    "display(mat)"
   ]
  },
  {
   "cell_type": "code",
   "execution_count": 49,
   "id": "8b80d453",
   "metadata": {},
   "outputs": [
    {
     "data": {
      "text/plain": [
       "array([[1., 0., 0., 0., 0., 0.],\n",
       "       [0., 0., 0., 0., 0., 0.],\n",
       "       [0., 0., 0., 0., 0., 0.],\n",
       "       [0., 0., 0., 0., 0., 0.]])"
      ]
     },
     "execution_count": 49,
     "metadata": {},
     "output_type": "execute_result"
    }
   ],
   "source": [
    "mat[0, 0] = 1\n",
    "mat"
   ]
  },
  {
   "cell_type": "code",
   "execution_count": 56,
   "id": "a62ee20e",
   "metadata": {},
   "outputs": [
    {
     "data": {
      "text/latex": [
       "$\\displaystyle \\left[\\begin{matrix}8.0 & 4.0 & 0.0\\\\10.0 & 5.0 & 0.0\\\\12.0 & 6.0 & 0.0\\end{matrix}\\right]$"
      ],
      "text/plain": [
       "⎡8.0   4.0  0⎤\n",
       "⎢            ⎥\n",
       "⎢10.0  5.0  0⎥\n",
       "⎢            ⎥\n",
       "⎣12.0  6.0  0⎦"
      ]
     },
     "metadata": {},
     "output_type": "display_data"
    }
   ],
   "source": [
    "# Matrices excercise\n",
    "\n",
    "expr = (4+x)*(2-y)\n",
    "solveMat = np.zeros([3, 3])\n",
    "for i in range(0, 3):\n",
    "    for j in range(0, 3):  \n",
    "        solveMat[i, j] = expr.subs({x:i,y:j})\n",
    "display(sym.simplify(solveMat))"
   ]
  },
  {
   "cell_type": "code",
   "execution_count": 2,
   "id": "55c9c47d",
   "metadata": {},
   "outputs": [
    {
     "data": {
      "text/latex": [
       "$\\displaystyle \\left[\\begin{matrix}1 & 2 & 3 & 4 & 5 & 6 & 7 & 8 & 9 & 10\\\\2 & 4 & 6 & 8 & 10 & 12 & 14 & 16 & 18 & 20\\\\3 & 6 & 9 & 12 & 15 & 18 & 21 & 24 & 27 & 30\\\\4 & 8 & 12 & 16 & 20 & 24 & 28 & 32 & 36 & 40\\\\5 & 10 & 15 & 20 & 25 & 30 & 35 & 40 & 45 & 50\\\\6 & 12 & 18 & 24 & 30 & 36 & 42 & 48 & 54 & 60\\\\7 & 14 & 21 & 28 & 35 & 42 & 49 & 56 & 63 & 70\\\\8 & 16 & 24 & 32 & 40 & 48 & 56 & 64 & 72 & 80\\\\9 & 18 & 27 & 36 & 45 & 54 & 63 & 72 & 81 & 90\\\\10 & 20 & 30 & 40 & 50 & 60 & 70 & 80 & 90 & 100\\end{matrix}\\right]$"
      ],
      "text/plain": [
       "⎡1   2   3   4   5   6   7   8   9   10 ⎤\n",
       "⎢                                       ⎥\n",
       "⎢2   4   6   8   10  12  14  16  18  20 ⎥\n",
       "⎢                                       ⎥\n",
       "⎢3   6   9   12  15  18  21  24  27  30 ⎥\n",
       "⎢                                       ⎥\n",
       "⎢4   8   12  16  20  24  28  32  36  40 ⎥\n",
       "⎢                                       ⎥\n",
       "⎢5   10  15  20  25  30  35  40  45  50 ⎥\n",
       "⎢                                       ⎥\n",
       "⎢6   12  18  24  30  36  42  48  54  60 ⎥\n",
       "⎢                                       ⎥\n",
       "⎢7   14  21  28  35  42  49  56  63  70 ⎥\n",
       "⎢                                       ⎥\n",
       "⎢8   16  24  32  40  48  56  64  72  80 ⎥\n",
       "⎢                                       ⎥\n",
       "⎢9   18  27  36  45  54  63  72  81  90 ⎥\n",
       "⎢                                       ⎥\n",
       "⎣10  20  30  40  50  60  70  80  90  100⎦"
      ]
     },
     "metadata": {},
     "output_type": "display_data"
    }
   ],
   "source": [
    "# Multiplication table\n",
    "\n",
    "solveMat = np.zeros([10, 10],dtype=int)\n",
    "for i in range(0, 10):\n",
    "    for j in range(0, 10):\n",
    "        solveMat[i, j] = (i+1)*(j+1)\n",
    "display(sym.simplify(solveMat))"
   ]
  },
  {
   "cell_type": "code",
   "execution_count": 12,
   "id": "e8ba48f3",
   "metadata": {},
   "outputs": [
    {
     "data": {
      "image/png": "[encoded data removed]",
      "text/latex": [
       "$\\displaystyle 0$"
      ],
      "text/plain": [
       "0"
      ]
     },
     "execution_count": 12,
     "metadata": {},
     "output_type": "execute_result"
    }
   ],
   "source": [
    "# Associative, commutative and distributive properties\n",
    "\n",
    "from sympy.abc import x, y, z, w\n",
    "\n",
    "expr1 = x*(4*y)\n",
    "expr2 = (x*4)*y\n",
    "\n",
    "expr1 - expr2"
   ]
  },
  {
   "cell_type": "code",
   "execution_count": 7,
   "id": "71349294",
   "metadata": {},
   "outputs": [
    {
     "data": {
      "image/png": "[encoded data removed]",
      "text/latex": [
       "$\\displaystyle 24$"
      ],
      "text/plain": [
       "24"
      ]
     },
     "metadata": {},
     "output_type": "display_data"
    },
    {
     "data": {
      "image/png": "[encoded data removed]",
      "text/latex": [
       "$\\displaystyle 24$"
      ],
      "text/plain": [
       "24"
      ]
     },
     "metadata": {},
     "output_type": "display_data"
    },
    {
     "data": {
      "image/png": "[encoded data removed]",
      "text/latex": [
       "$\\displaystyle 24$"
      ],
      "text/plain": [
       "24"
      ]
     },
     "metadata": {},
     "output_type": "display_data"
    }
   ],
   "source": [
    "e1 = 4*x*y\n",
    "e2 = x*4*y\n",
    "e3 = y*x*4\n",
    "display(e1.subs({x:3, y:2}))\n",
    "display(e2.subs({x:3, y:2}))\n",
    "display(e3.subs({x:3, y:2}))"
   ]
  },
  {
   "cell_type": "code",
   "execution_count": 10,
   "id": "730023c6",
   "metadata": {},
   "outputs": [
    {
     "data": {
      "image/png": "[encoded data removed]",
      "text/latex": [
       "$\\displaystyle \\left(a + b\\right) \\left(c + d\\right)$"
      ],
      "text/plain": [
       "(a + b)⋅(c + d)"
      ]
     },
     "metadata": {},
     "output_type": "display_data"
    }
   ],
   "source": [
    "a,b,c,d = sym.symbols('a,b,c,d')\n",
    "expr = (a+b)*(c+d)\n",
    "display(expr)"
   ]
  },
  {
   "cell_type": "code",
   "execution_count": 16,
   "id": "bda5ba9b",
   "metadata": {},
   "outputs": [
    {
     "data": {
      "image/png": "[encoded data removed]",
      "text/latex": [
       "$\\displaystyle \\frac{\\left(3 w^{6} + \\left(- w^{3} \\left(w - 4\\right) + w + 1\\right)^{3}\\right) \\left(y + z\\right)}{w^{6}}$"
      ],
      "text/plain": [
       "⎛                             3⎞        \n",
       "⎜   6   ⎛   3                ⎞ ⎟        \n",
       "⎝3⋅w  + ⎝- w ⋅(w - 4) + w + 1⎠ ⎠⋅(y + z)\n",
       "────────────────────────────────────────\n",
       "                    6                   \n",
       "                   w                    "
      ]
     },
     "metadata": {},
     "output_type": "display_data"
    },
    {
     "data": {
      "image/png": "[encoded data removed]",
      "text/latex": [
       "$\\displaystyle 0$"
      ],
      "text/plain": [
       "0"
      ]
     },
     "metadata": {},
     "output_type": "display_data"
    }
   ],
   "source": [
    "# Excercise\n",
    "\n",
    "x = w*(4-w)+(1/(w**2))*(1+w)\n",
    "f1 = x*(y+z)\n",
    "f2 = (3/x)+x**2\n",
    "\n",
    "display(sym.simplify(f1*f2))\n",
    "display(f1*f2 - f2*f1)"
   ]
  },
  {
   "cell_type": "code",
   "execution_count": 19,
   "id": "a0b1c176",
   "metadata": {},
   "outputs": [
    {
     "name": "stdout",
     "output_type": "stream",
     "text": [
      "<class 'list'>\n",
      "6\n"
     ]
    }
   ],
   "source": [
    "# Python lists\n",
    "\n",
    "lst = [1, 3, 4, 6]\n",
    "print(type(lst))\n",
    "print(lst[-1])"
   ]
  },
  {
   "cell_type": "code",
   "execution_count": 21,
   "id": "d5d15c13",
   "metadata": {},
   "outputs": [
    {
     "data": {
      "image/png": "[encoded data removed]",
      "text/latex": [
       "$\\displaystyle \\left[ 1, \\  3\\right]$"
      ],
      "text/plain": [
       "[1, 3]"
      ]
     },
     "execution_count": 21,
     "metadata": {},
     "output_type": "execute_result"
    }
   ],
   "source": [
    "# slicing\n",
    "lst[:2]"
   ]
  },
  {
   "cell_type": "code",
   "execution_count": 23,
   "id": "ebd0bf4c",
   "metadata": {},
   "outputs": [
    {
     "name": "stdout",
     "output_type": "stream",
     "text": [
      "1\n",
      "3\n",
      "4\n",
      "6\n"
     ]
    }
   ],
   "source": [
    "# for loop\n",
    "for i in lst:\n",
    "    print(i)"
   ]
  },
  {
   "cell_type": "code",
   "execution_count": 27,
   "id": "2ee61219",
   "metadata": {},
   "outputs": [
    {
     "data": {
      "text/latex": [
       "$\\displaystyle 3 w \\left(4 - w\\right) + \\left(w \\left(4 - w\\right) + \\frac{w + 1}{w^{2}}\\right) \\left(- 6 w \\left(4 - w\\right) + 4 - \\frac{6 \\left(w + 1\\right)}{w^{2}}\\right) + \\frac{3 \\left(w + 1\\right)}{w^{2}} \\Longleftrightarrow - 6 w^{4} + 48 w^{3} - 103 w^{2} + 40 w - 36 - \\frac{41}{w} + \\frac{1}{w^{2}} - \\frac{12}{w^{3}} - \\frac{6}{w^{4}}$"
      ],
      "text/plain": [
       "<IPython.core.display.Math object>"
      ]
     },
     "metadata": {},
     "output_type": "display_data"
    },
    {
     "data": {
      "text/latex": [
       "$\\displaystyle \\left(- w \\left(4 - w\\right) - \\frac{w + 1}{w^{2}}\\right) \\left(\\frac{2}{w \\left(4 - w\\right) + \\frac{w + 1}{w^{2}}} + \\frac{4}{\\left(w \\left(4 - w\\right) + \\frac{w + 1}{w^{2}}\\right)^{2}}\\right) + \\frac{w \\left(4 - w\\right) + 4 + \\frac{w + 1}{w^{2}}}{4 w \\left(4 - w\\right) + \\frac{4 \\left(w + 1\\right)}{w^{2}}} \\Longleftrightarrow \\frac{4 w^{2}}{w^{4} - 8 w^{3} + 16 w^{2} - 2 w + 6 + \\frac{8}{w} + \\frac{1}{w^{2}} + \\frac{2}{w^{3}} + \\frac{1}{w^{4}}} + \\frac{2 w^{2}}{- w^{2} + 4 w + \\frac{1}{w} + \\frac{1}{w^{2}}} - \\frac{w^{2}}{- 4 w^{2} + 16 w + \\frac{4}{w} + \\frac{4}{w^{2}}} - \\frac{16 w}{w^{4} - 8 w^{3} + 16 w^{2} - 2 w + 6 + \\frac{8}{w} + \\frac{1}{w^{2}} + \\frac{2}{w^{3}} + \\frac{1}{w^{4}}} - \\frac{8 w}{- w^{2} + 4 w + \\frac{1}{w} + \\frac{1}{w^{2}}} + \\frac{4 w}{- 4 w^{2} + 16 w + \\frac{4}{w} + \\frac{4}{w^{2}}} - \\frac{4}{w^{6} - 8 w^{5} + 16 w^{4} - 2 w^{3} + 6 w^{2} + 8 w + 1 + \\frac{2}{w} + \\frac{1}{w^{2}}} - \\frac{4}{w^{5} - 8 w^{4} + 16 w^{3} - 2 w^{2} + 6 w + 8 + \\frac{1}{w} + \\frac{2}{w^{2}} + \\frac{1}{w^{3}}} - \\frac{2}{- w^{4} + 4 w^{3} + w + 1} + \\frac{1}{- 4 w^{4} + 16 w^{3} + 4 w + 4} - \\frac{2}{- w^{3} + 4 w^{2} + 1 + \\frac{1}{w}} + \\frac{1}{- 4 w^{3} + 16 w^{2} + 4 + \\frac{4}{w}} + \\frac{4}{- 4 w^{2} + 16 w + \\frac{4}{w} + \\frac{4}{w^{2}}}$"
      ],
      "text/plain": [
       "<IPython.core.display.Math object>"
      ]
     },
     "metadata": {},
     "output_type": "display_data"
    },
    {
     "data": {
      "text/latex": [
       "$\\displaystyle \\left(0.333333333333333 w \\left(4 - w\\right) + \\frac{0.333333333333333 \\left(w + 1\\right)}{w^{2}}\\right) \\left(w \\left(4 - w\\right) + \\frac{w + 1}{w^{2}}\\right) \\left(w \\left(4 - w\\right) - 3 + \\frac{w + 1}{w^{2}}\\right) \\left(w \\left(4 - w\\right) + 3 + \\frac{w + 1}{w^{2}}\\right) \\Longleftrightarrow 0.333333333333333 w^{8} - 5.33333333333333 w^{7} + 32.0 w^{6} - 86.6666666666667 w^{5} + 97.0 w^{4} - 24.0 w^{3} - 24.6666666666667 w^{2} + 79.3333333333333 w - 16.0 + \\frac{22.6666666666667}{w} + \\frac{30.3333333333333}{w^{2}} + \\frac{6.0}{w^{3}} + \\frac{12.0}{w^{4}} + \\frac{6.66666666666667}{w^{5}} + \\frac{2.0}{w^{6}} + \\frac{1.33333333333333}{w^{7}} + \\frac{0.333333333333333}{w^{8}}$"
      ],
      "text/plain": [
       "<IPython.core.display.Math object>"
      ]
     },
     "metadata": {},
     "output_type": "display_data"
    }
   ],
   "source": [
    "e1 = 2*x + x*(4-6*x) + x\n",
    "e2 = -x*((2/x)+(4/x**2)) + ((4+x)/(4*x))\n",
    "e3 = (x+3)*(x-3)*x*(1/3*x)\n",
    "exprList = [e1, e2, e3]\n",
    "for i in exprList:\n",
    "    display(Math(\"%s \\\\Longleftrightarrow %s\" % (sym.latex(i), sym.latex(sym.expand(i)))))"
   ]
  },
  {
   "cell_type": "code",
   "execution_count": 6,
   "id": "b8d4ba5f",
   "metadata": {},
   "outputs": [
    {
     "data": {
      "image/png": "[encoded data removed]",
      "text/latex": [
       "$\\displaystyle \\left[ 10, \\  11, \\  12, \\  13, \\  14, \\  15, \\  16, \\  17, \\  18, \\  19, \\  20\\right]$"
      ],
      "text/plain": [
       "[10, 11, 12, 13, 14, 15, 16, 17, 18, 19, 20]"
      ]
     },
     "execution_count": 6,
     "metadata": {},
     "output_type": "execute_result"
    }
   ],
   "source": [
    "vec = list(range(10, 21))\n",
    "vec"
   ]
  },
  {
   "cell_type": "code",
   "execution_count": 10,
   "id": "e66ec3ce",
   "metadata": {},
   "outputs": [
    {
     "data": {
      "image/png": "[encoded data removed]",
      "text/latex": [
       "$\\displaystyle \\left[ 12, \\  13, \\  14\\right]$"
      ],
      "text/plain": [
       "[12, 13, 14]"
      ]
     },
     "execution_count": 10,
     "metadata": {},
     "output_type": "execute_result"
    }
   ],
   "source": [
    "vec[2:5]"
   ]
  },
  {
   "cell_type": "code",
   "execution_count": 12,
   "id": "421f69eb",
   "metadata": {},
   "outputs": [
    {
     "data": {
      "image/png": "[encoded data removed]",
      "text/latex": [
       "$\\displaystyle \\left[ 15, \\  16, \\  17, \\  18, \\  19, \\  20\\right]$"
      ],
      "text/plain": [
       "[15, 16, 17, 18, 19, 20]"
      ]
     },
     "execution_count": 12,
     "metadata": {},
     "output_type": "execute_result"
    }
   ],
   "source": [
    "# n to end\n",
    "vec[5:]"
   ]
  },
  {
   "cell_type": "code",
   "execution_count": 15,
   "id": "d53de888",
   "metadata": {},
   "outputs": [
    {
     "data": {
      "image/png": "[encoded data removed]",
      "text/latex": [
       "$\\displaystyle \\left[ 20, \\  19, \\  18, \\  17, \\  16, \\  15, \\  14, \\  13, \\  12, \\  11, \\  10\\right]$"
      ],
      "text/plain": [
       "[20, 19, 18, 17, 16, 15, 14, 13, 12, 11, 10]"
      ]
     },
     "execution_count": 15,
     "metadata": {},
     "output_type": "execute_result"
    }
   ],
   "source": [
    "vec[::-1]"
   ]
  },
  {
   "cell_type": "code",
   "execution_count": 18,
   "id": "1b1259ad",
   "metadata": {},
   "outputs": [
    {
     "data": {
      "image/png": "[encoded data removed]",
      "text/latex": [
       "$\\displaystyle \\left[ 10, \\  11, \\  12, \\  13, \\  14, \\  15, \\  16, \\  17, \\  18\\right]$"
      ],
      "text/plain": [
       "[10, 11, 12, 13, 14, 15, 16, 17, 18]"
      ]
     },
     "execution_count": 18,
     "metadata": {},
     "output_type": "execute_result"
    }
   ],
   "source": [
    "vec[:-2]"
   ]
  },
  {
   "cell_type": "code",
   "execution_count": 24,
   "id": "1c443e79",
   "metadata": {},
   "outputs": [
    {
     "data": {
      "image/png": "[encoded data removed]",
      "text/latex": [
       "$\\displaystyle \\left[ 10, \\  13, \\  16, \\  19\\right]$"
      ],
      "text/plain": [
       "[10, 13, 16, 19]"
      ]
     },
     "execution_count": 24,
     "metadata": {},
     "output_type": "execute_result"
    }
   ],
   "source": [
    "vec[::3]"
   ]
  },
  {
   "cell_type": "code",
   "execution_count": 35,
   "id": "df937cb0",
   "metadata": {},
   "outputs": [
    {
     "data": {
      "text/latex": [
       "$\\displaystyle \\frac{16}{88} = \\frac{2 \\times 8}{11 \\times 8}$"
      ],
      "text/plain": [
       "<IPython.core.display.Math object>"
      ]
     },
     "metadata": {},
     "output_type": "display_data"
    }
   ],
   "source": [
    "import math\n",
    "# Greatest common denomitor\n",
    "\n",
    "a = 16\n",
    "b = 88\n",
    "fact = math.gcd(a,b)\n",
    "display(Math(\"\\\\frac{%g}{%g} = \\\\frac{%g \\\\times %g}{%g \\\\times %g}\" % (a,b,a/fact,fact,b/fact,fact)))"
   ]
  },
  {
   "cell_type": "code",
   "execution_count": 44,
   "id": "140b18d6",
   "metadata": {},
   "outputs": [
    {
     "data": {
      "text/latex": [
       "$\\displaystyle \\left[\\begin{array}1 & 1 & 1 & 1 & 1 & 1 & 1 & 1 & 1 & 1 & 1 & 1 & 1 & 1 & 1\\\\1 & 2 & 1 & 2 & 1 & 2 & 1 & 2 & 1 & 2 & 1 & 2 & 1 & 2 & 1\\\\1 & 1 & 3 & 1 & 1 & 3 & 1 & 1 & 3 & 1 & 1 & 3 & 1 & 1 & 3\\\\1 & 2 & 1 & 4 & 1 & 2 & 1 & 4 & 1 & 2 & 1 & 4 & 1 & 2 & 1\\\\1 & 1 & 1 & 1 & 5 & 1 & 1 & 1 & 1 & 5 & 1 & 1 & 1 & 1 & 5\\\\1 & 2 & 3 & 2 & 1 & 6 & 1 & 2 & 3 & 2 & 1 & 6 & 1 & 2 & 3\\\\1 & 1 & 1 & 1 & 1 & 1 & 7 & 1 & 1 & 1 & 1 & 1 & 1 & 7 & 1\\\\1 & 2 & 1 & 4 & 1 & 2 & 1 & 8 & 1 & 2 & 1 & 4 & 1 & 2 & 1\\\\1 & 1 & 3 & 1 & 1 & 3 & 1 & 1 & 9 & 1 & 1 & 3 & 1 & 1 & 3\\\\1 & 2 & 1 & 2 & 5 & 2 & 1 & 2 & 1 & 10 & 1 & 2 & 1 & 2 & 5\\end{array}\\right]$"
      ],
      "text/plain": [
       "⎡1  1  1  1  1  1  1  1  1  1   1  1  1  1  1⎤\n",
       "⎢                                            ⎥\n",
       "⎢1  2  1  2  1  2  1  2  1  2   1  2  1  2  1⎥\n",
       "⎢                                            ⎥\n",
       "⎢1  1  3  1  1  3  1  1  3  1   1  3  1  1  3⎥\n",
       "⎢                                            ⎥\n",
       "⎢1  2  1  4  1  2  1  4  1  2   1  4  1  2  1⎥\n",
       "⎢                                            ⎥\n",
       "⎢1  1  1  1  5  1  1  1  1  5   1  1  1  1  5⎥\n",
       "⎢                                            ⎥\n",
       "⎢1  2  3  2  1  6  1  2  3  2   1  6  1  2  3⎥\n",
       "⎢                                            ⎥\n",
       "⎢1  1  1  1  1  1  7  1  1  1   1  1  1  7  1⎥\n",
       "⎢                                            ⎥\n",
       "⎢1  2  1  4  1  2  1  8  1  2   1  4  1  2  1⎥\n",
       "⎢                                            ⎥\n",
       "⎢1  1  3  1  1  3  1  1  9  1   1  3  1  1  3⎥\n",
       "⎢                                            ⎥\n",
       "⎣1  2  1  2  5  2  1  2  1  10  1  2  1  2  5⎦"
      ]
     },
     "metadata": {},
     "output_type": "display_data"
    }
   ],
   "source": [
    "# Excercises for GCD\n",
    "\n",
    "gcdMat = np.zeros([10, 15], dtype=int) + 99\n",
    "for i in range(10):\n",
    "    for j in range(15):\n",
    "        gcdMat[i][j] = math.gcd(i+1, j+1)\n",
    "display(sym.simplify(gcdMat))"
   ]
  },
  {
   "cell_type": "code",
   "execution_count": 50,
   "id": "de6b60fb",
   "metadata": {},
   "outputs": [
    {
     "name": "stdout",
     "output_type": "stream",
     "text": [
      "{'fruit': ['Banana', 'Apple'], 'numbers': [1, 2, 3, 4]}\n",
      "['Banana', 'Apple']\n",
      "fruit ['Banana', 'Apple']\n",
      "numbers [1, 2, 3, 4]\n"
     ]
    }
   ],
   "source": [
    "# Dictionaries\n",
    "\n",
    "D = dict(fruit=[\"Banana\", \"Apple\"], numbers=[1, 2, 3, 4])\n",
    "print(D)\n",
    "print(D[\"fruit\"])\n",
    "for k,v in D.items():\n",
    "    print(k, v)"
   ]
  },
  {
   "cell_type": "code",
   "execution_count": 60,
   "id": "58a25432",
   "metadata": {},
   "outputs": [
    {
     "data": {
      "text/latex": [
       "$\\displaystyle \\text{Equations solving for Y:}$"
      ],
      "text/plain": [
       "<IPython.core.display.Math object>"
      ]
     },
     "metadata": {},
     "output_type": "display_data"
    },
    {
     "data": {
      "text/latex": [
       "$\\displaystyle 4 x - 6=0 \\quad \\Rightarrow \\quad X=\\left[ \\frac{3}{2}\\right]$"
      ],
      "text/plain": [
       "<IPython.core.display.Math object>"
      ]
     },
     "metadata": {},
     "output_type": "display_data"
    },
    {
     "data": {
      "text/latex": [
       "$\\displaystyle x^{2} - 9=0 \\quad \\Rightarrow \\quad X=\\left[ -3, \\  3\\right]$"
      ],
      "text/plain": [
       "<IPython.core.display.Math object>"
      ]
     },
     "metadata": {},
     "output_type": "display_data"
    },
    {
     "data": {
      "text/latex": [
       "$\\displaystyle \\text{Equations solving for Y:}$"
      ],
      "text/plain": [
       "<IPython.core.display.Math object>"
      ]
     },
     "metadata": {},
     "output_type": "display_data"
    },
    {
     "data": {
      "text/latex": [
       "$\\displaystyle \\sin{\\left(y \\right)}=0 \\quad \\Rightarrow \\quad Y=\\left[ 0, \\  \\pi\\right]$"
      ],
      "text/plain": [
       "<IPython.core.display.Math object>"
      ]
     },
     "metadata": {},
     "output_type": "display_data"
    }
   ],
   "source": [
    "x,y = sym.symbols('x,y')\n",
    "e1 = 4*x\n",
    "e2 = sym.sin(y)\n",
    "e3 = x**2\n",
    "\n",
    "x_solve = {\n",
    "    e1:6,\n",
    "    e3:9\n",
    "}\n",
    "\n",
    "y_solve = {\n",
    "    e2:0\n",
    "}\n",
    "\n",
    "display(Math(\"\\\\text{Equations solving for Y:}\"))\n",
    "for i in x_solve.keys():\n",
    "    display(Math(\"%s=0 \\\\quad \\\\Rightarrow \\\\quad X=%s\" % (sym.latex(i-x_solve[i]), sym.latex(sym.solve(i-x_solve[i])))))\n",
    "    \n",
    "display(Math(\"\\\\text{Equations solving for Y:}\"))\n",
    "for i in y_solve.keys():\n",
    "    display(Math(\"%s=0 \\\\quad \\\\Rightarrow \\\\quad Y=%s\" % (sym.latex(i-y_solve[i]), sym.latex(sym.solve(i-y_solve[i])))))"
   ]
  },
  {
   "cell_type": "code",
   "execution_count": 70,
   "id": "ade5581a",
   "metadata": {},
   "outputs": [
    {
     "name": "stdout",
     "output_type": "stream",
     "text": [
      "2 is a prime number\n",
      "3 is a prime number\n",
      "4 is a composite number with factors [2]\n",
      "5 is a prime number\n",
      "6 is a composite number with factors [2, 3]\n",
      "7 is a prime number\n",
      "8 is a composite number with factors [2]\n",
      "9 is a composite number with factors [3]\n",
      "10 is a composite number with factors [2, 5]\n",
      "11 is a prime number\n",
      "12 is a composite number with factors [2, 3]\n",
      "13 is a prime number\n",
      "14 is a composite number with factors [2, 7]\n",
      "15 is a composite number with factors [3, 5]\n",
      "16 is a composite number with factors [2]\n",
      "17 is a prime number\n",
      "18 is a composite number with factors [2, 3]\n",
      "19 is a prime number\n",
      "20 is a composite number with factors [2, 5]\n",
      "21 is a composite number with factors [3, 7]\n",
      "22 is a composite number with factors [2, 11]\n",
      "23 is a prime number\n",
      "24 is a composite number with factors [2, 3]\n",
      "25 is a composite number with factors [5]\n",
      "26 is a composite number with factors [2, 13]\n",
      "27 is a composite number with factors [3]\n",
      "28 is a composite number with factors [2, 7]\n",
      "29 is a prime number\n",
      "30 is a composite number with factors [2, 3, 5]\n",
      "31 is a prime number\n",
      "32 is a composite number with factors [2]\n",
      "33 is a composite number with factors [3, 11]\n",
      "34 is a composite number with factors [2, 17]\n",
      "35 is a composite number with factors [5, 7]\n",
      "36 is a composite number with factors [2, 3]\n",
      "37 is a prime number\n",
      "38 is a composite number with factors [2, 19]\n",
      "39 is a composite number with factors [3, 13]\n",
      "40 is a composite number with factors [2, 5]\n",
      "41 is a prime number\n",
      "42 is a composite number with factors [2, 3, 7]\n",
      "43 is a prime number\n",
      "44 is a composite number with factors [2, 11]\n",
      "45 is a composite number with factors [3, 5]\n",
      "46 is a composite number with factors [2, 23]\n",
      "47 is a prime number\n",
      "48 is a composite number with factors [2, 3]\n",
      "49 is a composite number with factors [7]\n",
      "50 is a composite number with factors [2, 5]\n"
     ]
    }
   ],
   "source": [
    "# Prime factorization\n",
    "\n",
    "for i in range(2, 51):\n",
    "    fact = sym.factorint(i)\n",
    "    if len(fact.keys()) == 1 and list(fact.values())[0] == 1:\n",
    "        print(\"%g is a prime number\" % (i))\n",
    "    else:\n",
    "        print(\"%g is a composite number with factors %s\" % (i, str(list(fact.keys()))))"
   ]
  },
  {
   "cell_type": "code",
   "execution_count": 7,
   "id": "5d594908",
   "metadata": {},
   "outputs": [
    {
     "data": {
      "image/png": "[encoded data removed]",
      "text/latex": [
       "$\\displaystyle 2 < x \\wedge x < \\infty$"
      ],
      "text/plain": [
       "2 < x ∧ x < ∞"
      ]
     },
     "metadata": {},
     "output_type": "display_data"
    },
    {
     "data": {
      "image/png": "[encoded data removed]",
      "text/latex": [
       "$\\displaystyle \\frac{22}{17} \\leq x \\wedge x < \\infty$"
      ],
      "text/plain": [
       "22            \n",
       "── ≤ x ∧ x < ∞\n",
       "17            "
      ]
     },
     "metadata": {},
     "output_type": "display_data"
    }
   ],
   "source": [
    "x = sym.symbols(\"x\")\n",
    "expr = 4*x > 8\n",
    "display(sym.solve(expr))\n",
    "# sym.oo represents infinity\n",
    "\n",
    "# Exercise\n",
    "\n",
    "expr2 = (((3*x)/2) + ((4-5*x)/3)) <= 2 - ((5*(2-x))/4)\n",
    "display(sym.solve(expr2))"
   ]
  },
  {
   "cell_type": "code",
   "execution_count": 9,
   "id": "81ce4463",
   "metadata": {},
   "outputs": [
    {
     "data": {
      "text/latex": [
       "$\\displaystyle (2 x^{3} + x^{2} - x) + (- x^{4} + x^{3} - 4 x^{2}) = - x^{4} + 3 x^{3} - 3 x^{2} - x$"
      ],
      "text/plain": [
       "<IPython.core.display.Math object>"
      ]
     },
     "metadata": {},
     "output_type": "display_data"
    }
   ],
   "source": [
    "p1 = 2*x**3 + x**2-x\n",
    "p2 = x**3 - x**4 - 4*x**2\n",
    "display(Math(\"(%s) + (%s) = %s\" % (sym.latex(p1), sym.latex(p2), sym.latex(p1+p2))))"
   ]
  },
  {
   "cell_type": "code",
   "execution_count": 14,
   "id": "57748fe7",
   "metadata": {},
   "outputs": [
    {
     "data": {
      "image/png": "[encoded data removed]",
      "text/latex": [
       "$\\displaystyle 0$"
      ],
      "text/plain": [
       "0"
      ]
     },
     "metadata": {},
     "output_type": "display_data"
    },
    {
     "data": {
      "image/png": "[encoded data removed]",
      "text/latex": [
       "$\\displaystyle \\left[ 2, \\  1, \\  -1\\right]$"
      ],
      "text/plain": [
       "[2, 1, -1]"
      ]
     },
     "metadata": {},
     "output_type": "display_data"
    }
   ],
   "source": [
    "p1 = sym.Poly(2*x**3++ x**2 - x)\n",
    "display(p1.eval(0))\n",
    "display(p1.coeffs())"
   ]
  },
  {
   "cell_type": "code",
   "execution_count": 21,
   "id": "4d0ae606",
   "metadata": {},
   "outputs": [
    {
     "data": {
      "image/png": "[encoded data removed]",
      "text/latex": [
       "$\\displaystyle 3$"
      ],
      "text/plain": [
       "3"
      ]
     },
     "metadata": {},
     "output_type": "display_data"
    },
    {
     "data": {
      "image/png": "[encoded data removed]",
      "text/latex": [
       "$\\displaystyle 2$"
      ],
      "text/plain": [
       "2"
      ]
     },
     "metadata": {},
     "output_type": "display_data"
    },
    {
     "data": {
      "image/png": "[encoded data removed]",
      "text/latex": [
       "$\\displaystyle 4$"
      ],
      "text/plain": [
       "4"
      ]
     },
     "metadata": {},
     "output_type": "display_data"
    }
   ],
   "source": [
    "# Exercise\n",
    "\n",
    "polys = [\n",
    "    sym.Poly(x**2+2*x),\n",
    "    sym.Poly(-x**3+4*x),\n",
    "    sym.Poly(x**5-x**4+(x/4+4))\n",
    "]\n",
    "\n",
    "for i in polys:\n",
    "    if i.degree()%2 == 0:\n",
    "        display(sum(i.coeffs()))\n",
    "    else:\n",
    "        display(len(i.coeffs()))"
   ]
  },
  {
   "cell_type": "code",
   "execution_count": 26,
   "id": "75f5f80c",
   "metadata": {},
   "outputs": [
    {
     "data": {
      "text/latex": [
       "$\\displaystyle (4 x^{4} - 3 x^{2} + x y^{2} - 9 y^{3}) \\times (- x^{3} + 6 x^{2} y + 0.8 y^{3}) = - 4 x^{7} + 24 x^{6} y + 3 x^{5} + 3.2 x^{4} y^{3} - x^{4} y^{2} - 18 x^{4} y + 15 x^{3} y^{3} - 54 x^{2} y^{4} - 2.4 x^{2} y^{3} + 0.8 x y^{5} - 7.2 y^{6}$"
      ],
      "text/plain": [
       "<IPython.core.display.Math object>"
      ]
     },
     "metadata": {},
     "output_type": "display_data"
    }
   ],
   "source": [
    "# Exercise\n",
    "\n",
    "y = sym.symbols('y')\n",
    "fxy = 4*x**4 - 9*y**3 - 3*x**2 + x*y**2\n",
    "gxy = .8*y**3 - x**3 + 6*x**2*y\n",
    "display(Math(\"(%s) \\\\times (%s) = %s\" % (sym.latex(fxy), sym.latex(gxy), sym.latex(sym.expand(fxy*gxy)))))"
   ]
  },
  {
   "cell_type": "code",
   "execution_count": 29,
   "id": "aad243ef",
   "metadata": {},
   "outputs": [
    {
     "data": {
      "image/png": "[encoded data removed]",
      "text/latex": [
       "$\\displaystyle -1085833.8$"
      ],
      "text/plain": [
       "-1085833.80000000"
      ]
     },
     "metadata": {},
     "output_type": "display_data"
    },
    {
     "data": {
      "image/png": "[encoded data removed]",
      "text/latex": [
       "$\\displaystyle -1085833.8$"
      ],
      "text/plain": [
       "-1085833.80000000"
      ]
     },
     "metadata": {},
     "output_type": "display_data"
    }
   ],
   "source": [
    "xval, yval = 5,-2\n",
    "fg = (fxy*gxy).subs({x:xval, y:yval})\n",
    "display(fg)\n",
    "fxy_ans = fxy.subs({x:xval, y:yval})\n",
    "gxy_ans = gxy.subs({x:xval, y:yval})\n",
    "display(fxy_ans*gxy_ans)"
   ]
  },
  {
   "cell_type": "code",
   "execution_count": 33,
   "id": "4001a8e3",
   "metadata": {},
   "outputs": [
    {
     "data": {
      "text/latex": [
       "$\\displaystyle \\frac{4 x^{5} - x}{2 x^{3} - x} = 2 x^{2} + 1$"
      ],
      "text/plain": [
       "<IPython.core.display.Math object>"
      ]
     },
     "metadata": {},
     "output_type": "display_data"
    }
   ],
   "source": [
    "# Diviosn of poly\n",
    "p1 = 4*x**5-x\n",
    "p2 = 2*x**3-x\n",
    "display(Math(\"\\\\frac{%s}{%s} = %s\" % (sym.latex(p1), sym.latex(p2), sym.latex(sym.simplify(p1/p2)))))"
   ]
  },
  {
   "cell_type": "code",
   "execution_count": 38,
   "id": "c18c1ebf",
   "metadata": {},
   "outputs": [
    {
     "data": {
      "text/latex": [
       "$\\displaystyle \\frac{x^{6} + 2 x^{4} + 6 x - 5}{x^{3} + 3} = \\frac{x^{6} + 2 x^{4} + 6 x - 5}{x^{3} + 3}$"
      ],
      "text/plain": [
       "<IPython.core.display.Math object>"
      ]
     },
     "metadata": {},
     "output_type": "display_data"
    },
    {
     "data": {
      "text/latex": [
       "$\\displaystyle \\frac{x^{6} + 2 x^{4} + 6 x - 6}{x^{3} + 3} = \\frac{x^{6} + 2 x^{4} + 6 x - 6}{x^{3} + 3}$"
      ],
      "text/plain": [
       "<IPython.core.display.Math object>"
      ]
     },
     "metadata": {},
     "output_type": "display_data"
    },
    {
     "data": {
      "text/latex": [
       "$\\displaystyle \\frac{x^{6} + 2 x^{4} + 6 x - 7}{x^{3} + 3} = \\frac{x^{6} + 2 x^{4} + 6 x - 7}{x^{3} + 3}$"
      ],
      "text/plain": [
       "<IPython.core.display.Math object>"
      ]
     },
     "metadata": {},
     "output_type": "display_data"
    },
    {
     "data": {
      "text/latex": [
       "$\\displaystyle \\frac{x^{6} + 2 x^{4} + 6 x - 8}{x^{3} + 3} = \\frac{x^{6} + 2 x^{4} + 6 x - 8}{x^{3} + 3}$"
      ],
      "text/plain": [
       "<IPython.core.display.Math object>"
      ]
     },
     "metadata": {},
     "output_type": "display_data"
    },
    {
     "data": {
      "text/latex": [
       "$\\displaystyle \\frac{x^{6} + 2 x^{4} + 6 x - 9}{x^{3} + 3} = x^{3} + 2 x - 3$"
      ],
      "text/plain": [
       "<IPython.core.display.Math object>"
      ]
     },
     "metadata": {},
     "output_type": "display_data"
    },
    {
     "data": {
      "text/latex": [
       "$\\displaystyle \\frac{x^{6} + 2 x^{4} + 6 x - 10}{x^{3} + 3} = \\frac{x^{6} + 2 x^{4} + 6 x - 10}{x^{3} + 3}$"
      ],
      "text/plain": [
       "<IPython.core.display.Math object>"
      ]
     },
     "metadata": {},
     "output_type": "display_data"
    },
    {
     "data": {
      "text/latex": [
       "$\\displaystyle \\frac{x^{6} + 2 x^{4} + 6 x - 11}{x^{3} + 3} = \\frac{x^{6} + 2 x^{4} + 6 x - 11}{x^{3} + 3}$"
      ],
      "text/plain": [
       "<IPython.core.display.Math object>"
      ]
     },
     "metadata": {},
     "output_type": "display_data"
    },
    {
     "data": {
      "text/latex": [
       "$\\displaystyle \\frac{x^{6} + 2 x^{4} + 6 x - 12}{x^{3} + 3} = \\frac{x^{6} + 2 x^{4} + 6 x - 12}{x^{3} + 3}$"
      ],
      "text/plain": [
       "<IPython.core.display.Math object>"
      ]
     },
     "metadata": {},
     "output_type": "display_data"
    },
    {
     "data": {
      "text/latex": [
       "$\\displaystyle \\frac{x^{6} + 2 x^{4} + 6 x - 13}{x^{3} + 3} = \\frac{x^{6} + 2 x^{4} + 6 x - 13}{x^{3} + 3}$"
      ],
      "text/plain": [
       "<IPython.core.display.Math object>"
      ]
     },
     "metadata": {},
     "output_type": "display_data"
    },
    {
     "data": {
      "text/latex": [
       "$\\displaystyle \\frac{x^{6} + 2 x^{4} + 6 x - 14}{x^{3} + 3} = \\frac{x^{6} + 2 x^{4} + 6 x - 14}{x^{3} + 3}$"
      ],
      "text/plain": [
       "<IPython.core.display.Math object>"
      ]
     },
     "metadata": {},
     "output_type": "display_data"
    },
    {
     "data": {
      "text/latex": [
       "$\\displaystyle \\frac{x^{6} + 2 x^{4} + 6 x - 15}{x^{3} + 3} = \\frac{x^{6} + 2 x^{4} + 6 x - 15}{x^{3} + 3}$"
      ],
      "text/plain": [
       "<IPython.core.display.Math object>"
      ]
     },
     "metadata": {},
     "output_type": "display_data"
    },
    {
     "name": "stdout",
     "output_type": "stream",
     "text": [
      "The answer that satisfies our goal is y=9\n"
     ]
    }
   ],
   "source": [
    "# Exercise\n",
    "\n",
    "ans = 0\n",
    "pNum = (x**6+2*x**4+6*x-y)\n",
    "pDen = (x**3+3)\n",
    "expr = pNum / pDen\n",
    "\n",
    "for i in range(5, 16):\n",
    "    tempNum = pNum.subs(y, i)\n",
    "    display(Math(\"%s = %s\" % (sym.latex(tempNum/pDen), sym.latex(sym.simplify(tempNum/pDen)))))\n",
    "    if (sym.fraction(sym.simplify(tempNum/pDen)))[1] == 1:\n",
    "        ans = i\n",
    "        \n",
    "print(\"The answer that satisfies our goal is y=%g\" % ans)"
   ]
  },
  {
   "cell_type": "code",
   "execution_count": 46,
   "id": "a4c4305a",
   "metadata": {},
   "outputs": [
    {
     "data": {
      "text/latex": [
       "$\\displaystyle x^{2} + 4 x + 3 \\quad \\Rightarrow \\quad \\left(x + 1\\right) \\left(x + 3\\right)$"
      ],
      "text/plain": [
       "<IPython.core.display.Math object>"
      ]
     },
     "metadata": {},
     "output_type": "display_data"
    },
    {
     "data": {
      "text/latex": [
       "$\\displaystyle 2 y^{2} - 1 \\quad \\Rightarrow \\quad \\text{not factorable}$"
      ],
      "text/plain": [
       "<IPython.core.display.Math object>"
      ]
     },
     "metadata": {},
     "output_type": "display_data"
    },
    {
     "data": {
      "text/latex": [
       "$\\displaystyle 3 y^{2} + 12 y \\quad \\Rightarrow \\quad 3 y \\left(y + 4\\right)$"
      ],
      "text/plain": [
       "<IPython.core.display.Math object>"
      ]
     },
     "metadata": {},
     "output_type": "display_data"
    }
   ],
   "source": [
    "# More factorial exercises\n",
    "\n",
    "expr1 = x**2+4*x+3\n",
    "expr2 = 2*y**2-1\n",
    "expr3 = 3*y**2+12*y\n",
    "\n",
    "lst = [expr1, expr2, expr3]\n",
    "\n",
    "for i in lst:\n",
    "    fact = sym.factor(i)\n",
    "    if str(fact).find(\"(\") != -1:\n",
    "        display(Math(\"%s \\\\quad \\\\Rightarrow \\\\quad %s\" % (sym.latex(i), sym.latex(fact))))\n",
    "    else:\n",
    "        display(Math(\"%s \\\\quad \\\\Rightarrow \\\\quad \\\\text{not factorable!}\" % (sym.latex(i))))"
   ]
  }
 ],
 "metadata": {
  "kernelspec": {
   "display_name": "Python 3 (ipykernel)",
   "language": "python",
   "name": "python3"
  },
  "language_info": {
   "codemirror_mode": {
    "name": "ipython",
    "version": 3
   },
   "file_extension": ".py",
   "mimetype": "text/x-python",
   "name": "python",
   "nbconvert_exporter": "python",
   "pygments_lexer": "ipython3",
   "version": "3.9.12"
  }
 },
 "nbformat": 4,
 "nbformat_minor": 5
}
