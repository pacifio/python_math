{
 "cells": [
  {
   "cell_type": "code",
   "execution_count": 31,
   "id": "fa79243e",
   "metadata": {},
   "outputs": [],
   "source": [
    "import sympy as sym\n",
    "import numpy as np\n",
    "from IPython.display import display, Math\n",
    "\n",
    "sym.init_printing()"
   ]
  },
  {
   "cell_type": "code",
   "execution_count": 14,
   "id": "e541655b",
   "metadata": {},
   "outputs": [
    {
     "data": {
      "image/png": "[encoded data removed]",
      "text/latex": [
       "$\\displaystyle y + 4$"
      ],
      "text/plain": [
       "y + 4"
      ]
     },
     "execution_count": 14,
     "metadata": {},
     "output_type": "execute_result"
    }
   ],
   "source": [
    "x, y = sym.symbols('x,y')\n",
    "y + 4"
   ]
  },
  {
   "cell_type": "code",
   "execution_count": 20,
   "id": "e42b0984",
   "metadata": {},
   "outputs": [
    {
     "data": {
      "image/png": "[encoded data removed]",
      "text/latex": [
       "$\\displaystyle x^{y}$"
      ],
      "text/plain": [
       " y\n",
       "x "
      ]
     },
     "metadata": {},
     "output_type": "display_data"
    },
    {
     "data": {
      "image/png": "[encoded data removed]",
      "text/latex": [
       "$\\displaystyle \\frac{x}{y}$"
      ],
      "text/plain": [
       "x\n",
       "─\n",
       "y"
      ]
     },
     "metadata": {},
     "output_type": "display_data"
    },
    {
     "data": {
      "image/png": "[encoded data removed]",
      "text/latex": [
       "$\\displaystyle \\frac{x}{10}$"
      ],
      "text/plain": [
       "x \n",
       "──\n",
       "10"
      ]
     },
     "metadata": {},
     "output_type": "display_data"
    }
   ],
   "source": [
    "display(x**y)\n",
    "display(x/y)\n",
    "z = 10\n",
    "display(x/z) # this is not symbolic since we didn't register it to sympy"
   ]
  },
  {
   "cell_type": "code",
   "execution_count": 26,
   "id": "2a9f3a34",
   "metadata": {},
   "outputs": [
    {
     "data": {
      "image/png": "[encoded data removed]",
      "text/latex": [
       "$\\displaystyle 1.4142135623731$"
      ],
      "text/plain": [
       "1.4142135623730951"
      ]
     },
     "metadata": {},
     "output_type": "display_data"
    },
    {
     "data": {
      "image/png": "[encoded data removed]",
      "text/latex": [
       "$\\displaystyle \\sqrt{2}$"
      ],
      "text/plain": [
       "√2"
      ]
     },
     "metadata": {},
     "output_type": "display_data"
    }
   ],
   "source": [
    "display(np.sqrt(2))\n",
    "display(sym.sqrt(2))"
   ]
  },
  {
   "cell_type": "code",
   "execution_count": 30,
   "id": "32e705c6",
   "metadata": {},
   "outputs": [
    {
     "data": {
      "image/png": "[encoded data removed]",
      "text/latex": [
       "$\\displaystyle x^{2} y$"
      ],
      "text/plain": [
       " 2  \n",
       "x ⋅y"
      ]
     },
     "metadata": {},
     "output_type": "display_data"
    },
    {
     "data": {
      "image/png": "[encoded data removed]",
      "text/latex": [
       "$\\displaystyle 2 x$"
      ],
      "text/plain": [
       "2⋅x"
      ]
     },
     "metadata": {},
     "output_type": "display_data"
    },
    {
     "data": {
      "image/png": "[encoded data removed]",
      "text/latex": [
       "$\\displaystyle x$"
      ],
      "text/plain": [
       "x"
      ]
     },
     "metadata": {},
     "output_type": "display_data"
    }
   ],
   "source": [
    "display(y*(x**2))\n",
    "display(sym.sqrt(4, evaluate=False)*x)\n",
    "display(sym.sqrt(x)*sym.sqrt(x))"
   ]
  },
  {
   "cell_type": "code",
   "execution_count": 35,
   "id": "c6c571c4",
   "metadata": {},
   "outputs": [
    {
     "data": {
      "text/latex": [
       "$\\displaystyle 4+3=7$"
      ],
      "text/plain": [
       "<IPython.core.display.Math object>"
      ]
     },
     "metadata": {},
     "output_type": "display_data"
    },
    {
     "data": {
      "text/latex": [
       "$\\displaystyle \\sigma = \\mu \\times \\sqrt{5}$"
      ],
      "text/plain": [
       "<IPython.core.display.Math object>"
      ]
     },
     "metadata": {},
     "output_type": "display_data"
    }
   ],
   "source": [
    "# In depth intro into LaTeX\n",
    "\n",
    "display(Math(\"4+3=7\"))\n",
    "display(Math(\"\\\\sigma = \\\\mu \\\\times \\\\sqrt{5}\"))"
   ]
  },
  {
   "cell_type": "code",
   "execution_count": 40,
   "id": "5b97eb24",
   "metadata": {},
   "outputs": [
    {
     "data": {
      "text/latex": [
       "$\\displaystyle x_nm$"
      ],
      "text/plain": [
       "<IPython.core.display.Math object>"
      ]
     },
     "metadata": {},
     "output_type": "display_data"
    },
    {
     "data": {
      "text/latex": [
       "$\\displaystyle x_{nm}$"
      ],
      "text/plain": [
       "<IPython.core.display.Math object>"
      ]
     },
     "metadata": {},
     "output_type": "display_data"
    },
    {
     "data": {
      "text/latex": [
       "$\\displaystyle x_{nm} + y^nk$"
      ],
      "text/plain": [
       "<IPython.core.display.Math object>"
      ]
     },
     "metadata": {},
     "output_type": "display_data"
    },
    {
     "data": {
      "text/latex": [
       "$\\displaystyle x_{nm} + y^{nk}$"
      ],
      "text/plain": [
       "<IPython.core.display.Math object>"
      ]
     },
     "metadata": {},
     "output_type": "display_data"
    }
   ],
   "source": [
    "# Subscripts and superscripts\n",
    "\n",
    "display(Math(\"x_nm\"))\n",
    "display(Math(\"x_{nm}\"))\n",
    "display(Math(\"x_{nm} + y^nk\"))\n",
    "display(Math(\"x_{nm} + y^{nk}\"))"
   ]
  },
  {
   "cell_type": "code",
   "execution_count": 47,
   "id": "65fe7578",
   "metadata": {},
   "outputs": [
    {
     "data": {
      "text/latex": [
       "$\\displaystyle \\sigma = \\mu \\times (\\sqrt{5x + 3z - 17u_{n+k_{z}}})^{5 \\times 10^{-3}}$"
      ],
      "text/plain": [
       "<IPython.core.display.Math object>"
      ]
     },
     "metadata": {},
     "output_type": "display_data"
    }
   ],
   "source": [
    "# complex equations\n",
    "display(Math(\"\\\\sigma = \\\\mu \\\\times (\\\\sqrt{5x + 3z - 17u_{n+k_{z}}})^{5 \\\\times 10^{-3}}\"))"
   ]
  },
  {
   "cell_type": "code",
   "execution_count": 49,
   "id": "52105b1d",
   "metadata": {},
   "outputs": [
    {
     "data": {
      "text/latex": [
       "$\\displaystyle \\frac{1+x}{2v-s^{t+4r}}$"
      ],
      "text/plain": [
       "<IPython.core.display.Math object>"
      ]
     },
     "metadata": {},
     "output_type": "display_data"
    }
   ],
   "source": [
    "# Fractions\n",
    "display(Math(\"\\\\frac{1+x}{2v-s^{t+4r}}\"))"
   ]
  },
  {
   "cell_type": "code",
   "execution_count": 51,
   "id": "aed02554",
   "metadata": {},
   "outputs": [
    {
     "data": {
      "text/latex": [
       "$\\displaystyle \\text{This is a demo equation } \\frac{1+x}{2v-s^{t+4r}}$"
      ],
      "text/plain": [
       "<IPython.core.display.Math object>"
      ]
     },
     "metadata": {},
     "output_type": "display_data"
    }
   ],
   "source": [
    "# Normal text in LaTeX\n",
    "display(Math(\"\\\\text{This is a demo equation } \\\\frac{1+x}{2v-s^{t+4r}}\"))"
   ]
  },
  {
   "cell_type": "markdown",
   "id": "32d85bf4",
   "metadata": {},
   "source": [
    "## This is a markdown cell\n",
    "\n",
    "### This cell is not for python code\n",
    "\n",
    "We can run Latex inside markdown cells\n",
    "$$\\frac{1+x}{2v-s^{t+4r}}$$\n",
    "\n",
    "We can also run inline Latex code with a single dollar sign , e.g\n",
    "$\\frac{1+x}{2v-s^{t+4r}}$"
   ]
  },
  {
   "cell_type": "code",
   "execution_count": 58,
   "id": "e2df9655",
   "metadata": {},
   "outputs": [
    {
     "data": {
      "text/latex": [
       "$\\displaystyle 4x+5y-8z = 17$"
      ],
      "text/plain": [
       "<IPython.core.display.Math object>"
      ]
     },
     "metadata": {},
     "output_type": "display_data"
    },
    {
     "data": {
      "text/latex": [
       "$\\displaystyle sin(2\\pi ft+\\theta)$"
      ],
      "text/plain": [
       "<IPython.core.display.Math object>"
      ]
     },
     "metadata": {},
     "output_type": "display_data"
    },
    {
     "data": {
      "text/latex": [
       "$\\displaystyle e = mc^2$"
      ],
      "text/plain": [
       "<IPython.core.display.Math object>"
      ]
     },
     "metadata": {},
     "output_type": "display_data"
    },
    {
     "data": {
      "text/latex": [
       "$\\displaystyle \\frac{4+5x^2}{(1+x)(1-x)}$"
      ],
      "text/plain": [
       "<IPython.core.display.Math object>"
      ]
     },
     "metadata": {},
     "output_type": "display_data"
    }
   ],
   "source": [
    "# Latex excercises\n",
    "\n",
    "display(Math(\"4x+5y-8z = 17\"))\n",
    "display(Math(\"sin(2\\\\pi ft+\\\\theta)\"))\n",
    "display(Math(\"e = mc^2\"))\n",
    "display(Math(\"\\\\frac{4+5x^2}{(1+x)(1-x)}\"))"
   ]
  },
  {
   "cell_type": "code",
   "execution_count": 61,
   "id": "d2ddab36",
   "metadata": {},
   "outputs": [
    {
     "data": {
      "image/png": "[encoded data removed]",
      "text/latex": [
       "$\\displaystyle e^{\\frac{\\left(- \\alpha + \\mu\\right)^{2}}{2 \\sigma^{2}}}$"
      ],
      "text/plain": [
       "         2\n",
       " (-α + μ) \n",
       " ─────────\n",
       "       2  \n",
       "    2⋅σ   \n",
       "ℯ         "
      ]
     },
     "execution_count": 61,
     "metadata": {},
     "output_type": "execute_result"
    }
   ],
   "source": [
    "# In depth sympy introduction\n",
    "\n",
    "mu, alpha, sigma = sym.symbols(\"mu,alpha,sigma\")\n",
    "expr = sym.exp((mu-alpha)**2/(2*sigma**2))\n",
    "expr"
   ]
  },
  {
   "cell_type": "code",
   "execution_count": 72,
   "id": "e52ade3d",
   "metadata": {},
   "outputs": [
    {
     "data": {
      "image/png": "[encoded data removed]",
      "text/latex": [
       "$\\displaystyle 4 y + 9$"
      ],
      "text/plain": [
       "4⋅y + 9"
      ]
     },
     "metadata": {},
     "output_type": "display_data"
    },
    {
     "data": {
      "image/png": "[encoded data removed]",
      "text/latex": [
       "$\\displaystyle 24$"
      ],
      "text/plain": [
       "24"
      ]
     },
     "metadata": {},
     "output_type": "display_data"
    }
   ],
   "source": [
    "# Subsititues / setting values to symbols\n",
    "expr2 = 3*x+4*y\n",
    "expr2\n",
    "display(expr2.subs(x, 3))\n",
    "display(expr2.subs({x: 4, y: 3}))"
   ]
  },
  {
   "cell_type": "code",
   "execution_count": 81,
   "id": "538677dd",
   "metadata": {},
   "outputs": [
    {
     "data": {
      "text/latex": [
       "$\\displaystyle \\frac{3}{x}$"
      ],
      "text/plain": [
       "<IPython.core.display.Math object>"
      ]
     },
     "metadata": {},
     "output_type": "display_data"
    },
    {
     "data": {
      "text/plain": [
       "'\\\\frac{3}{x}'"
      ]
     },
     "metadata": {},
     "output_type": "display_data"
    },
    {
     "data": {
      "text/latex": [
       "$\\displaystyle \\frac{3}{x}$"
      ],
      "text/plain": [
       "<IPython.core.display.Math object>"
      ]
     },
     "metadata": {},
     "output_type": "display_data"
    },
    {
     "data": {
      "image/png": "[encoded data removed]",
      "text/latex": [
       "$\\displaystyle \\frac{3}{x}$"
      ],
      "text/plain": [
       "3\n",
       "─\n",
       "x"
      ]
     },
     "metadata": {},
     "output_type": "display_data"
    }
   ],
   "source": [
    "# Sympy <-> LaTeX\n",
    "expr3 = 3/x\n",
    "display(Math(sym.latex(expr3)))\n",
    "display(sym.latex(expr3))\n",
    "display(Math(sym.latex(sym.sympify('3/x'))))\n",
    "display(sym.sympify('3/x'))"
   ]
  },
  {
   "cell_type": "code",
   "execution_count": 92,
   "id": "ae805d7a",
   "metadata": {},
   "outputs": [
    {
     "data": {
      "text/latex": [
       "$\\displaystyle \\text{With x = -2} : x^{2} + 4 \\Rightarrow -2^2+4=8$"
      ],
      "text/plain": [
       "<IPython.core.display.Math object>"
      ]
     },
     "metadata": {},
     "output_type": "display_data"
    },
    {
     "data": {
      "text/latex": [
       "$\\displaystyle \\text{With x = -1} : x^{2} + 4 \\Rightarrow -1^2+4=5$"
      ],
      "text/plain": [
       "<IPython.core.display.Math object>"
      ]
     },
     "metadata": {},
     "output_type": "display_data"
    },
    {
     "data": {
      "text/latex": [
       "$\\displaystyle \\text{With x = 0} : x^{2} + 4 \\Rightarrow 0^2+4=4$"
      ],
      "text/plain": [
       "<IPython.core.display.Math object>"
      ]
     },
     "metadata": {},
     "output_type": "display_data"
    },
    {
     "data": {
      "text/latex": [
       "$\\displaystyle \\text{With x = 1} : x^{2} + 4 \\Rightarrow 1^2+4=5$"
      ],
      "text/plain": [
       "<IPython.core.display.Math object>"
      ]
     },
     "metadata": {},
     "output_type": "display_data"
    },
    {
     "data": {
      "text/latex": [
       "$\\displaystyle \\text{With x = 2} : x^{2} + 4 \\Rightarrow 2^2+4=8$"
      ],
      "text/plain": [
       "<IPython.core.display.Math object>"
      ]
     },
     "metadata": {},
     "output_type": "display_data"
    }
   ],
   "source": [
    "# Challenge\n",
    "\n",
    "for i in range(-2, 3):\n",
    "    expr = x**2+4\n",
    "    ans = (expr).subs(x, i)\n",
    "    display(Math(\"\\\\text{With x = %g} : %s \\\\Rightarrow %g^2+4=%g\" % (i, sym.latex(expr), i, ans)))"
   ]
  },
  {
   "cell_type": "code",
   "execution_count": 94,
   "id": "96439285",
   "metadata": {},
   "outputs": [
    {
     "name": "stdout",
     "output_type": "stream",
     "text": [
      "Hi my name is Mike and I eat 7 chocolates every day !\n"
     ]
    }
   ],
   "source": [
    "# F Strings\n",
    "svar = \"Mike\"\n",
    "nvar = 7\n",
    "print(f\"Hi my name is {svar} and I eat {nvar} chocolates every day !\")"
   ]
  },
  {
   "cell_type": "code",
   "execution_count": 103,
   "id": "cddda653",
   "metadata": {},
   "outputs": [
    {
     "data": {
      "text/latex": [
       "$\\displaystyle x^{y} x^{z} = x^{y + z}$"
      ],
      "text/plain": [
       "<IPython.core.display.Math object>"
      ]
     },
     "metadata": {},
     "output_type": "display_data"
    },
    {
     "data": {
      "text/latex": [
       "$\\displaystyle x^{y} x^{- z} = x^{y - z}$"
      ],
      "text/plain": [
       "<IPython.core.display.Math object>"
      ]
     },
     "metadata": {},
     "output_type": "display_data"
    },
    {
     "data": {
      "text/latex": [
       "$\\displaystyle x^{y} y^{z} = x^{y} y^{z}$"
      ],
      "text/plain": [
       "<IPython.core.display.Math object>"
      ]
     },
     "metadata": {},
     "output_type": "display_data"
    }
   ],
   "source": [
    "# The law of exponents\n",
    "z = sym.symbols('z')\n",
    "ex1 = x**y * x**z\n",
    "ex2 = x**y / x**z\n",
    "ex3 = x**y * y**z\n",
    "\n",
    "display(Math(\"%s = %s\" % (sym.latex(ex1), sym.latex(sym.simplify(ex1)))))\n",
    "display(Math(\"%s = %s\" % (sym.latex(ex2), sym.latex(sym.simplify(ex2)))))\n",
    "display(Math(\"%s = %s\" % (sym.latex(ex3), sym.latex(sym.simplify(ex3)))))"
   ]
  },
  {
   "cell_type": "code",
   "execution_count": 109,
   "id": "eca4c41f",
   "metadata": {},
   "outputs": [
    {
     "data": {
      "text/latex": [
       "$\\displaystyle \\text{True}$"
      ],
      "text/plain": [
       "True"
      ]
     },
     "metadata": {},
     "output_type": "display_data"
    },
    {
     "data": {
      "image/png": "[encoded data removed]",
      "text/latex": [
       "$\\displaystyle x^{y} x^{z} - x^{y + z}$"
      ],
      "text/plain": [
       " y  z    y + z\n",
       "x ⋅x  - x     "
      ]
     },
     "metadata": {},
     "output_type": "display_data"
    },
    {
     "data": {
      "text/latex": [
       "$\\displaystyle \\text{True}$"
      ],
      "text/plain": [
       "True"
      ]
     },
     "metadata": {},
     "output_type": "display_data"
    }
   ],
   "source": [
    "display(sym.Eq(4, 2+2))\n",
    "lhs = 4\n",
    "rhs = 6-2\n",
    "display(ex1-sym.simplify(ex1))\n",
    "display(sym.Eq(sym.expand(ex1-sym.simplify(ex1)), 0))"
   ]
  }
 ],
 "metadata": {
  "kernelspec": {
   "display_name": "Python 3 (ipykernel)",
   "language": "python",
   "name": "python3"
  },
  "language_info": {
   "codemirror_mode": {
    "name": "ipython",
    "version": 3
   },
   "file_extension": ".py",
   "mimetype": "text/x-python",
   "name": "python",
   "nbconvert_exporter": "python",
   "pygments_lexer": "ipython3",
   "version": "3.9.12"
  }
 },
 "nbformat": 4,
 "nbformat_minor": 5
}
