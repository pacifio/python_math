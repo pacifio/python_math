{
 "cells": [
  {
   "cell_type": "code",
   "execution_count": 4,
   "id": "4eda21c7",
   "metadata": {},
   "outputs": [
    {
     "data": {
      "text/plain": [
       "9"
      ]
     },
     "execution_count": 4,
     "metadata": {},
     "output_type": "execute_result"
    }
   ],
   "source": [
    "4+5"
   ]
  },
  {
   "cell_type": "code",
   "execution_count": 5,
   "id": "a87db57b",
   "metadata": {},
   "outputs": [
    {
     "data": {
      "text/plain": [
       "5"
      ]
     },
     "execution_count": 5,
     "metadata": {},
     "output_type": "execute_result"
    }
   ],
   "source": [
    "4+1"
   ]
  },
  {
   "cell_type": "code",
   "execution_count": 6,
   "id": "f841da38",
   "metadata": {},
   "outputs": [
    {
     "data": {
      "text/plain": [
       "4"
      ]
     },
     "execution_count": 6,
     "metadata": {},
     "output_type": "execute_result"
    }
   ],
   "source": [
    "5-1"
   ]
  },
  {
   "cell_type": "code",
   "execution_count": 7,
   "id": "10826508",
   "metadata": {},
   "outputs": [
    {
     "data": {
      "text/plain": [
       "9"
      ]
     },
     "execution_count": 7,
     "metadata": {},
     "output_type": "execute_result"
    }
   ],
   "source": [
    "3*3"
   ]
  },
  {
   "cell_type": "code",
   "execution_count": 8,
   "id": "062e4668",
   "metadata": {},
   "outputs": [
    {
     "data": {
      "text/plain": [
       "5.0"
      ]
     },
     "execution_count": 8,
     "metadata": {},
     "output_type": "execute_result"
    }
   ],
   "source": [
    "10/2"
   ]
  },
  {
   "cell_type": "code",
   "execution_count": 9,
   "id": "120419e3",
   "metadata": {},
   "outputs": [
    {
     "data": {
      "text/plain": [
       "5.0"
      ]
     },
     "execution_count": 9,
     "metadata": {},
     "output_type": "execute_result"
    }
   ],
   "source": [
    "abs(10/2)"
   ]
  },
  {
   "cell_type": "code",
   "execution_count": 10,
   "id": "23f0139f",
   "metadata": {},
   "outputs": [
    {
     "data": {
      "text/plain": [
       "5"
      ]
     },
     "execution_count": 10,
     "metadata": {},
     "output_type": "execute_result"
    }
   ],
   "source": [
    "int(abs(10/2))"
   ]
  },
  {
   "cell_type": "code",
   "execution_count": 11,
   "id": "6597f3ea",
   "metadata": {},
   "outputs": [
    {
     "data": {
      "text/plain": [
       "4.7"
      ]
     },
     "execution_count": 11,
     "metadata": {},
     "output_type": "execute_result"
    }
   ],
   "source": [
    "5-((2/4)*(3/5))"
   ]
  },
  {
   "cell_type": "code",
   "execution_count": 12,
   "id": "3fcc2fbf",
   "metadata": {},
   "outputs": [
    {
     "data": {
      "text/plain": [
       "7"
      ]
     },
     "execution_count": 12,
     "metadata": {},
     "output_type": "execute_result"
    }
   ],
   "source": [
    "x = 7\n",
    "x"
   ]
  },
  {
   "cell_type": "code",
   "execution_count": 13,
   "id": "c04c3689",
   "metadata": {},
   "outputs": [
    {
     "data": {
      "text/plain": [
       "5"
      ]
     },
     "execution_count": 13,
     "metadata": {},
     "output_type": "execute_result"
    }
   ],
   "source": [
    "x - 2"
   ]
  },
  {
   "cell_type": "code",
   "execution_count": 14,
   "id": "5833f5bf",
   "metadata": {},
   "outputs": [],
   "source": [
    "x = 10"
   ]
  },
  {
   "cell_type": "code",
   "execution_count": 15,
   "id": "ecfd3b0c",
   "metadata": {},
   "outputs": [
    {
     "data": {
      "text/plain": [
       "0"
      ]
     },
     "execution_count": 15,
     "metadata": {},
     "output_type": "execute_result"
    }
   ],
   "source": [
    "x = x - 2*5\n",
    "x"
   ]
  },
  {
   "cell_type": "code",
   "execution_count": 16,
   "id": "c8654e85",
   "metadata": {},
   "outputs": [
    {
     "data": {
      "text/plain": [
       "20"
      ]
     },
     "execution_count": 16,
     "metadata": {},
     "output_type": "execute_result"
    }
   ],
   "source": [
    "x = 10\n",
    "y = 10\n",
    "x + y"
   ]
  },
  {
   "cell_type": "code",
   "execution_count": 17,
   "id": "ca44af3c",
   "metadata": {},
   "outputs": [
    {
     "data": {
      "text/plain": [
       "3100"
      ]
     },
     "execution_count": 17,
     "metadata": {},
     "output_type": "execute_result"
    }
   ],
   "source": [
    "z = 31\n",
    "x*y*z"
   ]
  },
  {
   "cell_type": "code",
   "execution_count": 18,
   "id": "b17de875",
   "metadata": {},
   "outputs": [
    {
     "data": {
      "text/plain": [
       "44"
      ]
     },
     "execution_count": 18,
     "metadata": {},
     "output_type": "execute_result"
    }
   ],
   "source": [
    "mike = 10\n",
    "spike = 34\n",
    "mike + spike"
   ]
  },
  {
   "cell_type": "code",
   "execution_count": 19,
   "id": "8b93b3b2",
   "metadata": {},
   "outputs": [
    {
     "data": {
      "text/plain": [
       "42"
      ]
     },
     "execution_count": 19,
     "metadata": {},
     "output_type": "execute_result"
    }
   ],
   "source": [
    "x = 7\n",
    "y = -2\n",
    "z = 5\n",
    "3*x*(4+y)"
   ]
  },
  {
   "cell_type": "code",
   "execution_count": 20,
   "id": "4c20abad",
   "metadata": {},
   "outputs": [
    {
     "name": "stdout",
     "output_type": "stream",
     "text": [
      "42\n"
     ]
    }
   ],
   "source": [
    "print(3*x*(4+y))"
   ]
  },
  {
   "cell_type": "code",
   "execution_count": 3,
   "id": "97abee69",
   "metadata": {},
   "outputs": [
    {
     "data": {
      "text/plain": [
       "'4 + 3 = 7'"
      ]
     },
     "metadata": {},
     "output_type": "display_data"
    },
    {
     "data": {
      "text/plain": [
       "'4 + 3 = 7'"
      ]
     },
     "metadata": {},
     "output_type": "display_data"
    }
   ],
   "source": [
    "from IPython.display import display, Math\n",
    "display(\"4 + 3 = 7\")\n",
    "display('4 + 3 = ' + str(4+3))"
   ]
  },
  {
   "cell_type": "code",
   "execution_count": 24,
   "id": "1b1f78c3",
   "metadata": {},
   "outputs": [
    {
     "data": {
      "text/latex": [
       "$\\displaystyle 4+3 = 7$"
      ],
      "text/plain": [
       "<IPython.core.display.Math object>"
      ]
     },
     "metadata": {},
     "output_type": "display_data"
    }
   ],
   "source": [
    "display(Math('4+3 = ' + str(4+3)))"
   ]
  },
  {
   "cell_type": "code",
   "execution_count": 27,
   "id": "7b83b7cd",
   "metadata": {},
   "outputs": [
    {
     "data": {
      "text/latex": [
       "$\\displaystyle 9$"
      ],
      "text/plain": [
       "<IPython.core.display.Math object>"
      ]
     },
     "metadata": {},
     "output_type": "display_data"
    }
   ],
   "source": [
    "x = 4\n",
    "y = 5\n",
    "display(Math(str(x+y)))"
   ]
  },
  {
   "cell_type": "code",
   "execution_count": 29,
   "id": "6864a48f",
   "metadata": {},
   "outputs": [
    {
     "data": {
      "text/latex": [
       "$\\displaystyle 4 + 5 = 9$"
      ],
      "text/plain": [
       "<IPython.core.display.Math object>"
      ]
     },
     "metadata": {},
     "output_type": "display_data"
    }
   ],
   "source": [
    "display(Math('%g + %g = %g' % (x,y,x+y)))"
   ]
  },
  {
   "cell_type": "code",
   "execution_count": 31,
   "id": "eb5dc491",
   "metadata": {
    "scrolled": true
   },
   "outputs": [
    {
     "data": {
      "text/latex": [
       "$\\displaystyle \\frac{4}{5} = 0.8$"
      ],
      "text/plain": [
       "<IPython.core.display.Math object>"
      ]
     },
     "metadata": {},
     "output_type": "display_data"
    }
   ],
   "source": [
    "display(Math('\\\\frac{4}{5} = %g' % (4/5)))"
   ]
  },
  {
   "cell_type": "code",
   "execution_count": 40,
   "id": "361557bf",
   "metadata": {
    "scrolled": true
   },
   "outputs": [
    {
     "data": {
      "text/latex": [
       "$\\displaystyle 3.4 \\times 17 = 57.8$"
      ],
      "text/plain": [
       "<IPython.core.display.Math object>"
      ]
     },
     "metadata": {},
     "output_type": "display_data"
    }
   ],
   "source": [
    "x = 3.4\n",
    "y = 17\n",
    "display(Math('%g \\\\times %g = %g' % (x,y,x*y)))"
   ]
  },
  {
   "cell_type": "code",
   "execution_count": 20,
   "id": "a16e7dac",
   "metadata": {},
   "outputs": [
    {
     "data": {
      "text/latex": [
       "$\\displaystyle 3x(4+y)=42$"
      ],
      "text/plain": [
       "<IPython.core.display.Math object>"
      ]
     },
     "metadata": {},
     "output_type": "display_data"
    },
    {
     "data": {
      "text/latex": [
       "$\\displaystyle 3 \\times 7(4+ -2) = 42$"
      ],
      "text/plain": [
       "<IPython.core.display.Math object>"
      ]
     },
     "metadata": {},
     "output_type": "display_data"
    },
    {
     "data": {
      "text/latex": [
       "$\\displaystyle -y-\\frac{x+3}{z}=0$"
      ],
      "text/plain": [
       "<IPython.core.display.Math object>"
      ]
     },
     "metadata": {},
     "output_type": "display_data"
    },
    {
     "data": {
      "text/latex": [
       "$\\displaystyle --3\\frac{7+3}{5}=0$"
      ],
      "text/plain": [
       "<IPython.core.display.Math object>"
      ]
     },
     "metadata": {},
     "output_type": "display_data"
    },
    {
     "data": {
      "text/plain": [
       "'\\nthis is a multi line comments\\n'"
      ]
     },
     "execution_count": 20,
     "metadata": {},
     "output_type": "execute_result"
    }
   ],
   "source": [
    "x = 7\n",
    "y = -2\n",
    "z = 5\n",
    "\n",
    "solve = 3*x*(4+y)\n",
    "display(Math('3x(4+y)=%g' % (solve)))\n",
    "display(Math('3 \\\\times 7(4+ -2) = %g' % (solve)))\n",
    "\n",
    "solve2 = -y-((x+3)/z)\n",
    "display(Math('-y-\\\\frac{x+3}{z}=%g' % (solve2)))\n",
    "display(Math('--3\\\\frac{7+3}{5}=%g' % (solve2)))\n",
    "\n",
    "# this is a comment\n",
    "# these lines wouldn't be executed\n",
    "\n",
    "'''\n",
    "this is a multi line comments\n",
    "'''"
   ]
  },
  {
   "cell_type": "code",
   "execution_count": 5,
   "id": "35292608",
   "metadata": {},
   "outputs": [
    {
     "data": {
      "text/plain": [
       "9"
      ]
     },
     "execution_count": 5,
     "metadata": {},
     "output_type": "execute_result"
    }
   ],
   "source": [
    "# Exponents\n",
    "3**2\n",
    "x = 2\n",
    "3**x"
   ]
  },
  {
   "cell_type": "code",
   "execution_count": 8,
   "id": "0d9d5ced",
   "metadata": {},
   "outputs": [
    {
     "data": {
      "text/plain": [
       "2.0"
      ]
     },
     "execution_count": 8,
     "metadata": {},
     "output_type": "execute_result"
    }
   ],
   "source": [
    "# Squre root\n",
    "4**(1/2)"
   ]
  },
  {
   "cell_type": "code",
   "execution_count": 12,
   "id": "fc292939",
   "metadata": {},
   "outputs": [
    {
     "data": {
      "text/latex": [
       "$\\displaystyle 3^2 = 9$"
      ],
      "text/plain": [
       "<IPython.core.display.Math object>"
      ]
     },
     "metadata": {},
     "output_type": "display_data"
    },
    {
     "name": "stdout",
     "output_type": "stream",
     "text": [
      "This means\n"
     ]
    },
    {
     "data": {
      "text/latex": [
       "$\\displaystyle 3 \\times 3 = 9$"
      ],
      "text/plain": [
       "<IPython.core.display.Math object>"
      ]
     },
     "metadata": {},
     "output_type": "display_data"
    }
   ],
   "source": [
    "display(Math('3^2 = %g' % (3**2)))\n",
    "print(\"This means\")\n",
    "display(Math('3 \\\\times 3 = 9'))"
   ]
  },
  {
   "cell_type": "code",
   "execution_count": 21,
   "id": "d97db550",
   "metadata": {
    "scrolled": true
   },
   "outputs": [
    {
     "data": {
      "text/latex": [
       "$\\displaystyle x^\\frac{3}{4} \\times 4^y = 3933.09$"
      ],
      "text/plain": [
       "<IPython.core.display.Math object>"
      ]
     },
     "metadata": {},
     "output_type": "display_data"
    },
    {
     "data": {
      "text/latex": [
       "$\\displaystyle \\frac{3^3}{x^y} = 0.00735558$"
      ],
      "text/plain": [
       "<IPython.core.display.Math object>"
      ]
     },
     "metadata": {},
     "output_type": "display_data"
    },
    {
     "data": {
      "text/latex": [
       "$\\displaystyle 10^x-4 = 10$"
      ],
      "text/plain": [
       "<IPython.core.display.Math object>"
      ]
     },
     "metadata": {},
     "output_type": "display_data"
    }
   ],
   "source": [
    "x = 5\n",
    "y = 5.1\n",
    "\n",
    "solve1 = x**(3/4) * 4**(y)\n",
    "solve2 = ((3**3) / x**y)\n",
    "solve3 = 10**(x-4)\n",
    "\n",
    "# First display\n",
    "display(Math('x^\\\\frac{3}{4} \\\\times 4^y = %g' % (solve1)))\n",
    "display(Math('\\\\frac{3^3}{x^y} = %g' % (solve2)))\n",
    "display(Math('10^x-4 = %g' % (solve3)))"
   ]
  },
  {
   "cell_type": "code",
   "execution_count": 25,
   "id": "834ff3d8",
   "metadata": {},
   "outputs": [
    {
     "name": "stdout",
     "output_type": "stream",
     "text": [
      "0\n",
      "1\n",
      "2\n",
      "3\n",
      "0\n",
      "1\n",
      "4\n"
     ]
    },
    {
     "data": {
      "text/plain": [
       "[0, 1, 2]"
      ]
     },
     "execution_count": 25,
     "metadata": {},
     "output_type": "execute_result"
    }
   ],
   "source": [
    "# For loops\n",
    "for i in [0, 1, 2, 3]:\n",
    "    print(i)\n",
    "    \n",
    "# Range generates a range of numbers\n",
    "for i in range(0, 3):\n",
    "    print(i**2)\n",
    "\n",
    "list(range(0, 3))"
   ]
  },
  {
   "cell_type": "code",
   "execution_count": 32,
   "id": "ecd4727b",
   "metadata": {},
   "outputs": [
    {
     "data": {
      "text/latex": [
       "$\\displaystyle 32^0 = 1$"
      ],
      "text/plain": [
       "<IPython.core.display.Math object>"
      ]
     },
     "metadata": {},
     "output_type": "display_data"
    },
    {
     "data": {
      "text/latex": [
       "$\\displaystyle 32^1 = 32$"
      ],
      "text/plain": [
       "<IPython.core.display.Math object>"
      ]
     },
     "metadata": {},
     "output_type": "display_data"
    },
    {
     "data": {
      "text/latex": [
       "$\\displaystyle 32^2 = 1024$"
      ],
      "text/plain": [
       "<IPython.core.display.Math object>"
      ]
     },
     "metadata": {},
     "output_type": "display_data"
    },
    {
     "data": {
      "text/latex": [
       "$\\displaystyle 32^3 = 32768$"
      ],
      "text/plain": [
       "<IPython.core.display.Math object>"
      ]
     },
     "metadata": {},
     "output_type": "display_data"
    },
    {
     "data": {
      "text/latex": [
       "$\\displaystyle 32^4 = 1.04858e+06$"
      ],
      "text/plain": [
       "<IPython.core.display.Math object>"
      ]
     },
     "metadata": {},
     "output_type": "display_data"
    },
    {
     "data": {
      "text/latex": [
       "$\\displaystyle 32^5 = 3.35544e+07$"
      ],
      "text/plain": [
       "<IPython.core.display.Math object>"
      ]
     },
     "metadata": {},
     "output_type": "display_data"
    },
    {
     "data": {
      "text/latex": [
       "$\\displaystyle 32^6 = 1.07374e+09$"
      ],
      "text/plain": [
       "<IPython.core.display.Math object>"
      ]
     },
     "metadata": {},
     "output_type": "display_data"
    },
    {
     "data": {
      "text/latex": [
       "$\\displaystyle 32^7 = 3.43597e+10$"
      ],
      "text/plain": [
       "<IPython.core.display.Math object>"
      ]
     },
     "metadata": {},
     "output_type": "display_data"
    },
    {
     "data": {
      "text/latex": [
       "$\\displaystyle 32^8 = 1.09951e+12$"
      ],
      "text/plain": [
       "<IPython.core.display.Math object>"
      ]
     },
     "metadata": {},
     "output_type": "display_data"
    },
    {
     "data": {
      "text/latex": [
       "$\\displaystyle 32^9 = 3.51844e+13$"
      ],
      "text/plain": [
       "<IPython.core.display.Math object>"
      ]
     },
     "metadata": {},
     "output_type": "display_data"
    }
   ],
   "source": [
    "base = 32\n",
    "for i in range(10):\n",
    "    display(Math('%g^%g = %g' % (base,i,base**i)))"
   ]
  },
  {
   "cell_type": "code",
   "execution_count": 39,
   "id": "7e3e69c7",
   "metadata": {},
   "outputs": [
    {
     "data": {
      "text/plain": [
       "0.0"
      ]
     },
     "execution_count": 39,
     "metadata": {},
     "output_type": "execute_result"
    }
   ],
   "source": [
    "# 4+3*2-1\n",
    "# 4*5/7+3 = 5.8\n",
    "\n",
    "# Adding parenthesis to manipulate the results\n",
    "(4*5) / (7+3)\n",
    "9 / (3+6) - 1"
   ]
  },
  {
   "cell_type": "code",
   "execution_count": 47,
   "id": "4969ba00",
   "metadata": {},
   "outputs": [
    {
     "name": "stdout",
     "output_type": "stream",
     "text": [
      "<class 'bool'>\n",
      "True\n",
      "False\n"
     ]
    }
   ],
   "source": [
    "# Boolean data types in Python\n",
    "\n",
    "# 4>3\n",
    "# 4<5\n",
    "# 4>= 2+2 \n",
    "b = 4<=3+2\n",
    "print(type(b))\n",
    "print(type(b) == bool) # equality operator\n",
    "print(type(b) != bool) # inequality operator"
   ]
  },
  {
   "cell_type": "code",
   "execution_count": 49,
   "id": "17406e56",
   "metadata": {},
   "outputs": [
    {
     "data": {
      "text/latex": [
       "$\\displaystyle 4x + 3 < 17-x^2 is False where x=2$"
      ],
      "text/plain": [
       "<IPython.core.display.Math object>"
      ]
     },
     "metadata": {},
     "output_type": "display_data"
    },
    {
     "data": {
      "text/latex": [
       "$\\displaystyle 4x + 3 < 17-x^2 is False where x=3$"
      ],
      "text/plain": [
       "<IPython.core.display.Math object>"
      ]
     },
     "metadata": {},
     "output_type": "display_data"
    },
    {
     "data": {
      "text/latex": [
       "$\\displaystyle 4x + 3 < 17-x^2 is False where x=4$"
      ],
      "text/plain": [
       "<IPython.core.display.Math object>"
      ]
     },
     "metadata": {},
     "output_type": "display_data"
    }
   ],
   "source": [
    "x = 2\n",
    "for i in range(3):\n",
    "    solve = 4*((x+i)+3) < 17 - (x+i)**2\n",
    "    display(Math('4x + 3 < 17-x^2 is %s where x=%g' % (str(solve), (x+i))))"
   ]
  },
  {
   "cell_type": "code",
   "execution_count": 56,
   "id": "9a277d1b",
   "metadata": {},
   "outputs": [
    {
     "name": "stdout",
     "output_type": "stream",
     "text": [
      "This is supposed to be 6\n",
      "5 is greater than 4\n"
     ]
    }
   ],
   "source": [
    "# If statements or logical operators\n",
    "\n",
    "if 4+2 == 5:\n",
    "    print(\"This is 6 haha\")\n",
    "else:\n",
    "    print(\"This is supposed to be 6\")\n",
    "    \n",
    "x1 = 5\n",
    "x2 = 4\n",
    "if x1>x2:\n",
    "    print(\"%g is greater than %g\" % (x1, x2))\n",
    "elif x1<x2:\n",
    "    print(\"%g is greater than %g\" % (x2, x1))\n",
    "else:\n",
    "    print(\"Both numbers are the same\")"
   ]
  },
  {
   "cell_type": "code",
   "execution_count": 70,
   "id": "c642570f",
   "metadata": {},
   "outputs": [
    {
     "data": {
      "text/latex": [
       "$\\displaystyle 1^{-1} = 1$"
      ],
      "text/plain": [
       "<IPython.core.display.Math object>"
      ]
     },
     "metadata": {},
     "output_type": "display_data"
    },
    {
     "data": {
      "text/latex": [
       "$\\displaystyle 1^{-2} = 1$"
      ],
      "text/plain": [
       "<IPython.core.display.Math object>"
      ]
     },
     "metadata": {},
     "output_type": "display_data"
    },
    {
     "data": {
      "text/latex": [
       "$\\displaystyle 1^{-3} = 1$"
      ],
      "text/plain": [
       "<IPython.core.display.Math object>"
      ]
     },
     "metadata": {},
     "output_type": "display_data"
    },
    {
     "data": {
      "text/latex": [
       "$\\displaystyle 1^{-4} = 1$"
      ],
      "text/plain": [
       "<IPython.core.display.Math object>"
      ]
     },
     "metadata": {},
     "output_type": "display_data"
    },
    {
     "data": {
      "text/latex": [
       "$\\displaystyle 2^{-1} = 0.5$"
      ],
      "text/plain": [
       "<IPython.core.display.Math object>"
      ]
     },
     "metadata": {},
     "output_type": "display_data"
    },
    {
     "data": {
      "text/latex": [
       "$\\displaystyle 2^{-2} = 0.25$"
      ],
      "text/plain": [
       "<IPython.core.display.Math object>"
      ]
     },
     "metadata": {},
     "output_type": "display_data"
    },
    {
     "data": {
      "text/latex": [
       "$\\displaystyle 2^{-3} = 0.125$"
      ],
      "text/plain": [
       "<IPython.core.display.Math object>"
      ]
     },
     "metadata": {},
     "output_type": "display_data"
    },
    {
     "data": {
      "text/latex": [
       "$\\displaystyle 2^{-4} = 0.0625$"
      ],
      "text/plain": [
       "<IPython.core.display.Math object>"
      ]
     },
     "metadata": {},
     "output_type": "display_data"
    },
    {
     "data": {
      "text/latex": [
       "$\\displaystyle 3^{-1} = 0.333333$"
      ],
      "text/plain": [
       "<IPython.core.display.Math object>"
      ]
     },
     "metadata": {},
     "output_type": "display_data"
    },
    {
     "data": {
      "text/latex": [
       "$\\displaystyle 3^{-2} = 0.111111$"
      ],
      "text/plain": [
       "<IPython.core.display.Math object>"
      ]
     },
     "metadata": {},
     "output_type": "display_data"
    },
    {
     "data": {
      "text/latex": [
       "$\\displaystyle 3^{-3} = 0.037037$"
      ],
      "text/plain": [
       "<IPython.core.display.Math object>"
      ]
     },
     "metadata": {},
     "output_type": "display_data"
    },
    {
     "data": {
      "text/latex": [
       "$\\displaystyle 3^{-4} = 0.0123457$"
      ],
      "text/plain": [
       "<IPython.core.display.Math object>"
      ]
     },
     "metadata": {},
     "output_type": "display_data"
    }
   ],
   "source": [
    "for i in range(0, 4):\n",
    "    for j in range(0, 5):\n",
    "        if i>0 and j>0:\n",
    "            solve = (i)**(-(j))\n",
    "            display(Math('%g^{-%g} = %g' % (i, j, solve)))"
   ]
  },
  {
   "cell_type": "code",
   "execution_count": 71,
   "id": "48c511ba",
   "metadata": {},
   "outputs": [
    {
     "name": "stdout",
     "output_type": "stream",
     "text": [
      "-4 was not tested\n",
      "Absolute value of 6 is 6\n",
      "-1 was not tested\n",
      "Absolute value of 43 is 43\n",
      "Absolute value of -18 is 18\n",
      "2 was not tested\n",
      "0 was not tested\n"
     ]
    }
   ],
   "source": [
    "# Absolute number excercise\n",
    "\n",
    "nums = [-4, 6, -1, 43, -18, 2, 0]\n",
    "for i in nums:\n",
    "    if i < -5 or i > 2:\n",
    "        print(\"Absolute value of %g is %g\" % (i, abs(i)))\n",
    "    else:\n",
    "        print(\"%g was not tested\" % (i))"
   ]
  },
  {
   "cell_type": "code",
   "execution_count": 72,
   "id": "7e0e0207",
   "metadata": {},
   "outputs": [
    {
     "data": {
      "text/latex": [
       "$\\displaystyle |-10| = 10$"
      ],
      "text/plain": [
       "<IPython.core.display.Math object>"
      ]
     },
     "metadata": {},
     "output_type": "display_data"
    }
   ],
   "source": [
    "# Displaying modulus\n",
    "display(Math('|-10| = 10'))"
   ]
  },
  {
   "cell_type": "code",
   "execution_count": 9,
   "id": "70234908",
   "metadata": {},
   "outputs": [
    {
     "name": "stdout",
     "output_type": "stream",
     "text": [
      "-5 in an odd number\n",
      "-4 is an even number\n",
      "-3 in an odd number\n",
      "-2 is an even number\n",
      "-1 in an odd number\n",
      " 0 is an even number\n",
      " 1 in an odd number\n",
      " 2 is an even number\n",
      " 3 in an odd number\n",
      " 4 is an even number\n",
      " 5 in an odd number\n"
     ]
    }
   ],
   "source": [
    "# Remainder\n",
    "\n",
    "for i in range(-5, 6):\n",
    "    firstChar = ' '\n",
    "    if i < 0:\n",
    "        firstChar = ''\n",
    "    \n",
    "    if (abs(i) % 2 == 0):\n",
    "        print(\"%s%g is an even number\" % (firstChar,i))\n",
    "    else:\n",
    "        print(\"%s%g in an odd number\" % (firstChar,i))"
   ]
  },
  {
   "cell_type": "code",
   "execution_count": 19,
   "id": "8e1523f9",
   "metadata": {},
   "outputs": [
    {
     "name": "stdout",
     "output_type": "stream",
     "text": [
      "Hello World\n"
     ]
    }
   ],
   "source": [
    "# Functions\n",
    "\n",
    "def myFunction(name=\"World\"):\n",
    "    print(\"Hello %s\" % (name))\n",
    "\n",
    "myFunction()\n",
    "\n",
    "def computeRemainder():\n",
    "    x = float(input(\"numerator\"))\n",
    "    y = float(input(\"denominator\"))\n",
    "    div = x/y\n",
    "    rem = x%y\n",
    "    \n",
    "    print(\"%g goes into %g , %g times with a remainder of %g\" % (y, x, div, rem))\n",
    "    \n",
    "    \n",
    "# computeRemainder()"
   ]
  },
  {
   "cell_type": "code",
   "execution_count": 23,
   "id": "3b1bd8ca",
   "metadata": {},
   "outputs": [
    {
     "name": "stdout",
     "output_type": "stream",
     "text": [
      "input X : 2\n",
      "input Y : 3\n"
     ]
    },
    {
     "data": {
      "text/latex": [
       "$\\displaystyle \\text{press \"1\" to compute }2^3\\text{or \"2\" to compute }\\frac{2}{3}$"
      ],
      "text/plain": [
       "<IPython.core.display.Math object>"
      ]
     },
     "metadata": {},
     "output_type": "display_data"
    },
    {
     "name": "stdout",
     "output_type": "stream",
     "text": [
      "3\n",
      "Invalid selection!\n"
     ]
    }
   ],
   "source": [
    "# Code challenge ep014\n",
    "\n",
    "def xpowy(x, y):\n",
    "    display(Math(\"%g^%g = %g\" % (x, y, x**y)))\n",
    "\n",
    "def xydiv(x, y):\n",
    "    display(Math(\"\\\\frac{%g}{%g} = %g\" % (x, y, x/y)))\n",
    "\n",
    "def solve014():\n",
    "    x = int(input(\"input X : \"))\n",
    "    y = int(input(\"input Y : \"))\n",
    "    display(Math('\\\\text{press \"1\" to compute }%g^%g\\\\text{or \"2\" to compute }\\\\frac{%g}{%g}' % (x, y, x, y)))\n",
    "    command = int(input())\n",
    "    \n",
    "    if command == 1:\n",
    "        xpowy(x, y)\n",
    "    elif command == 2:\n",
    "        xydiv(x, y)\n",
    "    else:\n",
    "        print(\"Invalid selection!\")\n",
    "        \n",
    "solve014()"
   ]
  },
  {
   "cell_type": "code",
   "execution_count": 7,
   "id": "4e4d3921",
   "metadata": {},
   "outputs": [],
   "source": [
    "import random\n",
    "\n",
    "attempts = 0\n",
    "\n",
    "def guessTheNumber():\n",
    "    magicN = random.randint(1, 100)\n",
    "    won = False\n",
    "    \n",
    "    print(\"Guess a number between 1 and 100\")\n",
    "    \n",
    "    while not won:\n",
    "        x = int(input())\n",
    "        attempts += 1\n",
    "        if x > magicN:\n",
    "            print(\"Guess lower!\")\n",
    "        elif x < magicN:\n",
    "            print(\"Guess higher!\")\n",
    "        else:\n",
    "            print(\"Got it ! The right number was %g and your final guess was %g\" % (magicN, x))\n",
    "            print(\"You took %g attempts\" % (attempts))\n",
    "            won = True\n",
    "            \n",
    "guessTheNumber()"
   ]
  },
  {
   "cell_type": "code",
   "execution_count": 8,
   "id": "7c731499",
   "metadata": {},
   "outputs": [
    {
     "name": "stdout",
     "output_type": "stream",
     "text": [
      "Guess a number between 1 and 100\n",
      "50\n",
      "Guess higher!\n",
      "70\n",
      "Guess higher!\n",
      "80\n",
      "Guess lower!\n",
      "75\n",
      "Got it ! The right number was 75 and your final guess was 75\n",
      "You took 4 attempts\n"
     ]
    }
   ],
   "source": []
  }
 ],
 "metadata": {
  "kernelspec": {
   "display_name": "Python 3 (ipykernel)",
   "language": "python",
   "name": "python3"
  },
  "language_info": {
   "codemirror_mode": {
    "name": "ipython",
    "version": 3
   },
   "file_extension": ".py",
   "mimetype": "text/x-python",
   "name": "python",
   "nbconvert_exporter": "python",
   "pygments_lexer": "ipython3",
   "version": "3.9.12"
  }
 },
 "nbformat": 4,
 "nbformat_minor": 5
}
