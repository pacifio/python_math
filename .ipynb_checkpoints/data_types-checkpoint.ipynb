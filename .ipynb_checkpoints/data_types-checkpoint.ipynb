{
 "cells": [
  {
   "cell_type": "code",
   "execution_count": 1,
   "id": "2d84120e",
   "metadata": {},
   "outputs": [],
   "source": [
    "import numpy as np"
   ]
  },
  {
   "cell_type": "code",
   "execution_count": 8,
   "id": "351b5ad4",
   "metadata": {},
   "outputs": [
    {
     "name": "stdout",
     "output_type": "stream",
     "text": [
      "7 7.0\n",
      "<class 'int'>\n",
      "<class 'float'>\n",
      "0\n",
      "1\n",
      "2\n",
      "3\n",
      "4\n",
      "5\n",
      "6\n"
     ]
    }
   ],
   "source": [
    "# data types\n",
    "# ints vs. floats\n",
    "c = 7\n",
    "d = 7.0\n",
    "print(c, d)\n",
    "print(type(c))\n",
    "print(type(d))\n",
    "\n",
    "for i in range(c):\n",
    "    print(i)"
   ]
  },
  {
   "cell_type": "code",
   "execution_count": 11,
   "id": "508bfaff",
   "metadata": {},
   "outputs": [
    {
     "data": {
      "text/plain": [
       "'Adib Mohsin'"
      ]
     },
     "execution_count": 11,
     "metadata": {},
     "output_type": "execute_result"
    }
   ],
   "source": [
    "firstName = \"Adib\"\n",
    "lastName = \"Mohsin\"\n",
    "firstName + \" \" + lastName"
   ]
  },
  {
   "cell_type": "code",
   "execution_count": 13,
   "id": "bcf30d72",
   "metadata": {},
   "outputs": [
    {
     "data": {
      "text/plain": [
       "49.0"
      ]
     },
     "execution_count": 13,
     "metadata": {},
     "output_type": "execute_result"
    }
   ],
   "source": [
    "c * d"
   ]
  },
  {
   "cell_type": "code",
   "execution_count": 15,
   "id": "291c893b",
   "metadata": {},
   "outputs": [
    {
     "data": {
      "text/plain": [
       "'AdibAdibAdib'"
      ]
     },
     "execution_count": 15,
     "metadata": {},
     "output_type": "execute_result"
    }
   ],
   "source": [
    "firstName * 3"
   ]
  },
  {
   "cell_type": "code",
   "execution_count": 17,
   "id": "3067488e",
   "metadata": {},
   "outputs": [
    {
     "name": "stdout",
     "output_type": "stream",
     "text": [
      "Variable    Type      Data/Info\n",
      "-------------------------------\n",
      "c           int       7\n",
      "d           float     7.0\n",
      "firstName   str       Adib\n",
      "i           int       6\n",
      "lastName    str       Mohsin\n",
      "np          module    <module 'numpy' from 'C:\\<...>ges\\\\numpy\\\\__init__.py'>\n"
     ]
    }
   ],
   "source": [
    "%whos"
   ]
  },
  {
   "cell_type": "code",
   "execution_count": 19,
   "id": "d9fe8667",
   "metadata": {},
   "outputs": [
    {
     "data": {
      "text/plain": [
       "list"
      ]
     },
     "execution_count": 19,
     "metadata": {},
     "output_type": "execute_result"
    }
   ],
   "source": [
    "# Lists\n",
    "# numpy arrays\n",
    "\n",
    "aList = [0, 1, 2, 3, 4, 5]\n",
    "sList = [\"0\", \"1\", \"2\", \"3\", \"4\", \"5\"]\n",
    "type(aList)"
   ]
  },
  {
   "cell_type": "code",
   "execution_count": 20,
   "id": "1a0f64cf",
   "metadata": {},
   "outputs": [
    {
     "data": {
      "text/plain": [
       "[0, 1, 2, 3, 4, 5, '0', '1', '2', '3', '4', '5']"
      ]
     },
     "execution_count": 20,
     "metadata": {},
     "output_type": "execute_result"
    }
   ],
   "source": [
    "aList + sList"
   ]
  },
  {
   "cell_type": "code",
   "execution_count": 21,
   "id": "b5ba2918",
   "metadata": {},
   "outputs": [
    {
     "data": {
      "text/plain": [
       "[0, 1, 2, 3, 4, 5, 0, 1, 2, 3, 4, 5, 0, 1, 2, 3, 4, 5]"
      ]
     },
     "execution_count": 21,
     "metadata": {},
     "output_type": "execute_result"
    }
   ],
   "source": [
    "aList*3"
   ]
  },
  {
   "cell_type": "code",
   "execution_count": 22,
   "id": "478b684a",
   "metadata": {},
   "outputs": [
    {
     "name": "stdout",
     "output_type": "stream",
     "text": [
      "<class 'list'>\n",
      "<class 'numpy.ndarray'>\n"
     ]
    }
   ],
   "source": [
    "aList_np = np.array(aList)\n",
    "print(type(aList))\n",
    "print(type(aList_np))"
   ]
  },
  {
   "cell_type": "code",
   "execution_count": 23,
   "id": "f74bd999",
   "metadata": {},
   "outputs": [
    {
     "data": {
      "text/plain": [
       "array([ 0,  3,  6,  9, 12, 15])"
      ]
     },
     "execution_count": 23,
     "metadata": {},
     "output_type": "execute_result"
    }
   ],
   "source": [
    "aList_np * 3"
   ]
  },
  {
   "cell_type": "code",
   "execution_count": 26,
   "id": "bb544d51",
   "metadata": {},
   "outputs": [
    {
     "data": {
      "text/plain": [
       "[0, 3, 6, 9, 12, 15]"
      ]
     },
     "execution_count": 26,
     "metadata": {},
     "output_type": "execute_result"
    }
   ],
   "source": [
    "list(aList_np * 3)"
   ]
  },
  {
   "cell_type": "code",
   "execution_count": 28,
   "id": "b16c0a82",
   "metadata": {},
   "outputs": [
    {
     "data": {
      "text/plain": [
       "array([0, 1, 2, 3, 4, 5])"
      ]
     },
     "execution_count": 28,
     "metadata": {},
     "output_type": "execute_result"
    }
   ],
   "source": [
    "aList_np.T"
   ]
  },
  {
   "cell_type": "code",
   "execution_count": 37,
   "id": "b844b74f",
   "metadata": {},
   "outputs": [
    {
     "name": "stdout",
     "output_type": "stream",
     "text": [
      "List element 0 is 3 and is type int\n",
      "List element 1 is ['3', '4', '5'] and is type list\n",
      "List element 2 is 5.5 and is type float\n",
      "List element 3 is [4, 5, 6] and is type list\n"
     ]
    }
   ],
   "source": [
    "listlist = [\n",
    "    3,\n",
    "    ['3', '4', '5'],\n",
    "    5.5,\n",
    "    [4,5,6]\n",
    "]\n",
    "\n",
    "for i in range(len(listlist)):\n",
    "    print(f\"List element {i} is {listlist[i]} and is type {str(type(listlist[i]))[8:][:-2]}\")"
   ]
  },
  {
   "cell_type": "code",
   "execution_count": 38,
   "id": "2a824cac",
   "metadata": {},
   "outputs": [
    {
     "name": "stdout",
     "output_type": "stream",
     "text": [
      "0 M\n",
      "1 i\n",
      "2 k\n",
      "3 e\n"
     ]
    }
   ],
   "source": [
    "s = \"Mike\"\n",
    "for i, letter in enumerate(s):\n",
    "    print(i, letter)"
   ]
  }
 ],
 "metadata": {
  "kernelspec": {
   "display_name": "Python 3 (ipykernel)",
   "language": "python",
   "name": "python3"
  },
  "language_info": {
   "codemirror_mode": {
    "name": "ipython",
    "version": 3
   },
   "file_extension": ".py",
   "mimetype": "text/x-python",
   "name": "python",
   "nbconvert_exporter": "python",
   "pygments_lexer": "ipython3",
   "version": "3.9.12"
  }
 },
 "nbformat": 4,
 "nbformat_minor": 5
}
